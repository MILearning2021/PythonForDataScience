{
 "cells": [
  {
   "cell_type": "code",
   "execution_count": 3,
   "metadata": {},
   "outputs": [
    {
     "name": "stdout",
     "output_type": "stream",
     "text": [
      "Фраза 2 длинее фразы 1\n"
     ]
    }
   ],
   "source": [
    "#задание 1\n",
    "\n",
    "phrase_1 = 'Насколько проще было бы писать программы, если бы не заказчики'\n",
    "phrase_2 = '640Кб должно хватить для любых задач. Билл Гейтс (по легенде)'\n",
    "if len(phrase_1) > len(phrase_2): print('Фраза 1 длинее фразы 2')\n",
    "elif len(phrase_1) == len(phrase_2): print('Фразы равной длины.')\n",
    "else: print('Фраза 2 длинее фразы 1')\n"
   ]
  },
  {
   "cell_type": "code",
   "execution_count": 9,
   "metadata": {},
   "outputs": [
    {
     "name": "stdout",
     "output_type": "stream",
     "text": [
      "Обычный год\n"
     ]
    }
   ],
   "source": [
    "#задание 2\n",
    "\n",
    "year = 2025\n",
    "if (year % 4 == 0 and year % 100 != 0) or year % 400 == 0:\n",
    "    print('Високосный год')\n",
    "else: print('Обычный год')"
   ]
  },
  {
   "cell_type": "code",
   "execution_count": 19,
   "metadata": {},
   "outputs": [
    {
     "name": "stdout",
     "output_type": "stream",
     "text": [
      "Введите день числом: 15\n",
      "Введите месяц словом: Август\n",
      "Ваш знак зодиака: ЛЕВ\n"
     ]
    }
   ],
   "source": [
    "#задание 3\n",
    "\n",
    "import datetime as dt\n",
    "\n",
    "arr_Znak = [['ОВЕН', '03.21', '04.19'],\n",
    "            ['ТЕЛЕЦ', '04.20', '05.20'],\n",
    "            ['БЛИЗНЕЦЫ', '05.21', '06.21'],\n",
    "            ['РАК', '06.22', '07.22'],\n",
    "            ['ЛЕВ', '07.23', '08.22'],\n",
    "            ['ДЕВА', '08.23', '09.22'],\n",
    "            ['ВЕСЫ', '09.23', '10.23'],\n",
    "            ['СКОРПИОН', '10.24', '11.22'],\n",
    "            ['СТРЕЛЕЦ', '11.23', '12.21'],\n",
    "            ['КОЗЕРОГ', '12.22', '01.20'],\n",
    "            ['ВОДОЛЕЙ', '01.21', '02.18'],\n",
    "            ['РЫБЫ', '02.19', '03.20']]\n",
    "\n",
    "month = [1, 'Январь',\n",
    "        2, 'Февраль',\n",
    "        3, 'Март',\n",
    "        4, 'Апрель',\n",
    "        5, 'Май',\n",
    "        6, 'Июнь',\n",
    "        7, 'Июль',\n",
    "        8, 'Август',\n",
    "        9, 'Сентябрь',\n",
    "        10, 'Октябрь',\n",
    "        11, 'Ноябрь',\n",
    "        12, 'Декабрь']\n",
    "\n",
    "str_Day = input('Введите день числом: ')\n",
    "str_Month = input('Введите месяц словом: ')\n",
    "int_Day = int(str_Day)\n",
    "int_Month = month[month.index(str_Month) - 1]\n",
    "\n",
    "for znak in arr_Znak:\n",
    "    if znak[1][0:2].find(str(int_Month)) > -1:\n",
    "        if int_Day >= int(znak[1][3:5]):\n",
    "            print('Ваш знак зодиака: ' + znak[0])\n",
    "            break\n",
    "    if znak[2][0:2].find(str(int_Month)) > -1:\n",
    "        if int_Day <= int(znak[2][3:5]):\n",
    "            print('Ваш знак зодиака: ' + znak[0])\n",
    "            break\n"
   ]
  },
  {
   "cell_type": "code",
   "execution_count": 8,
   "metadata": {},
   "outputs": [
    {
     "name": "stdout",
     "output_type": "stream",
     "text": [
      "Коробка №2\n"
     ]
    }
   ],
   "source": [
    "#задание 4\n",
    "\n",
    "width = 34\n",
    "length = 11\n",
    "height = 14\n",
    "\n",
    "if width < 15 and length < 15 and height < 15:\n",
    "    print('Коробка №1')\n",
    "elif 15 < width < 50 or 15 < length < 50 or 15 < height < 50:\n",
    "    print('Коробка №2')\n",
    "elif length > 200:\n",
    "    print('Упаковка для лыж')\n",
    "else:\n",
    "    print('Стандартная коробка №3')\n"
   ]
  },
  {
   "cell_type": "code",
   "execution_count": 21,
   "metadata": {},
   "outputs": [
    {
     "name": "stdout",
     "output_type": "stream",
     "text": [
      "123321 счастливый билет\n",
      "123456 счастливый билет\n"
     ]
    }
   ],
   "source": [
    "#задание №5\n",
    "\n",
    "number = (123321,123456)\n",
    "\n",
    "for element in number:\n",
    "    n1_3 = 0\n",
    "    n4_6 = 0\n",
    "    for i in range(0,3):\n",
    "        n1_3 = n1_3 + element\n",
    "        n4_6 = n4_6 + element\n",
    "    if n1_3 == n4_6:\n",
    "        print(f'{element} счастливый билет')\n",
    "    else:\n",
    "        print(f'{element} несчастливый билет')\n"
   ]
  },
  {
   "cell_type": "code",
   "execution_count": 56,
   "metadata": {},
   "outputs": [
    {
     "name": "stdout",
     "output_type": "stream",
     "text": [
      "Введите тип фигуры: Треугольник\n",
      "Введите длину стороны А: 2\n",
      "Введите длину стороны Б: 2\n",
      "Введите длину стороны В: 3\n",
      "Площадь треугольника: 1.98\n"
     ]
    }
   ],
   "source": [
    "#задание #6\n",
    "\n",
    "import numpy as np\n",
    "\n",
    "arr_Quest = [['Круг', 'радиус круга'],\n",
    "            ['Треугольник', 'длину стороны А', 'длину стороны Б', 'длину стороны В'],\n",
    "            ['Прямоугольник', 'длину стороны А', 'длину стороны Б']]\n",
    "list_Param = []\n",
    "\n",
    "str_FigType = input('Введите тип фигуры: ')\n",
    "\n",
    "for i in range(0, len(arr_Quest)):\n",
    "    if arr_Quest[i][0] == str_FigType:\n",
    "        for j in range(1, len(arr_Quest[i])):\n",
    "            list_Param.append(int(input('Введите ' + arr_Quest[i][j] + ': ')))\n",
    "        break\n",
    "\n",
    "int_LenParam = len(list_Param)\n",
    "if int_LenParam == 1:\n",
    "    print('Площадь круга: ' + str(np.round(3.1416 * list_Param[0]**2,2)))\n",
    "elif int_LenParam == 2:\n",
    "    print('Площадь прямоугольника: ' + str(list_Param[0] * list_Param[1]))\n",
    "elif int_LenParam == 3:\n",
    "    PP = (list_Param[0] + list_Param[1] + list_Param[2]) / 2\n",
    "    print('Площадь треугольника: ' + \n",
    "          str(np.round(np.sqrt(PP * (PP - list_Param[0]) * (PP - list_Param[1]) * (PP - list_Param[2])),2)))\n"
   ]
  },
  {
   "cell_type": "code",
   "execution_count": null,
   "metadata": {},
   "outputs": [],
   "source": []
  }
 ],
 "metadata": {
  "kernelspec": {
   "display_name": "Python 3",
   "language": "python",
   "name": "python3"
  },
  "language_info": {
   "codemirror_mode": {
    "name": "ipython",
    "version": 3
   },
   "file_extension": ".py",
   "mimetype": "text/x-python",
   "name": "python",
   "nbconvert_exporter": "python",
   "pygments_lexer": "ipython3",
   "version": "3.8.5"
  }
 },
 "nbformat": 4,
 "nbformat_minor": 4
}
