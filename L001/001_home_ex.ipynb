{
 "cells": [
  {
   "cell_type": "code",
   "execution_count": 3,
   "metadata": {},
   "outputs": [
    {
     "name": "stdout",
     "output_type": "stream",
     "text": [
      "Задайте строку: qwerty\n",
      "Четное количество символов, средние: er\n"
     ]
    }
   ],
   "source": [
    "#задание №1\n",
    "\n",
    "str_word = input('Задайте строку: ')\n",
    "len_str_word = len(str_word)\n",
    "if len_str_word % 2 == 0:\n",
    "    print(f'Четное количество символов, средние: {str_word[int(len_str_word / 2) - 1] + str_word[int(len_str_word / 2)]}')\n",
    "else:\n",
    "    print(f'Нечетное количество символов, средний: {str_word[len_str_word // 2]}')"
   ]
  },
  {
   "cell_type": "code",
   "execution_count": 28,
   "metadata": {},
   "outputs": [
    {
     "name": "stdout",
     "output_type": "stream",
     "text": [
      "Введите число: 1\n",
      "Введите число: 2\n",
      "Введите число: 3\n",
      "Введите число: 0\n",
      "Результат: 6\n"
     ]
    }
   ],
   "source": [
    "#задание №2\n",
    "\n",
    "summa = 0\n",
    "str_num = -1\n",
    "while str_num != 0:\n",
    "    str_num = int(input('Введите число: '))\n",
    "    summa = summa + str_num\n",
    "print('Результат: ' + str(summa))\n"
   ]
  },
  {
   "cell_type": "code",
   "execution_count": 7,
   "metadata": {},
   "outputs": [
    {
     "name": "stdout",
     "output_type": "stream",
     "text": [
      "Идеальные пары:\n",
      "Alex и Emma\n",
      "Arthur и Kate\n",
      "John и Kira\n",
      "Peter и Liza\n",
      "Richard и Trisha\n"
     ]
    }
   ],
   "source": [
    "#задание №3\n",
    "import numpy as np\n",
    "\n",
    "boys = ['Peter', 'Alex', 'John', 'Arthur', 'Richard']\n",
    "girls = ['Kate', 'Liza', 'Kira', 'Emma', 'Trisha']\n",
    "\n",
    "if len(boys) != len(girls):\n",
    "    print('Кто-то может остаться без пары :)))')\n",
    "else:\n",
    "    boys_sorted = np.sort(boys)\n",
    "    girls_sorted = np.sort(girls)\n",
    "    print(\"Идеальные пары:\")\n",
    "    for i in range(0, len(boys)):\n",
    "        print(boys_sorted[i] + \" и \" + girls_sorted[i])\n"
   ]
  },
  {
   "cell_type": "code",
   "execution_count": 8,
   "metadata": {},
   "outputs": [
    {
     "name": "stdout",
     "output_type": "stream",
     "text": [
      "Средняя температура в странах:\n",
      "Thailand - 23.9 C\n",
      "Germany - 13.8 C\n",
      "Russia - 3.7 C\n",
      "Poland - 12.0 C\n"
     ]
    }
   ],
   "source": [
    "#задание №4\n",
    "\n",
    "countries_temperature = [\n",
    "['Thailand', [75.2, 77, 78.8, 73.4, 68, 75.2, 77]],\n",
    "['Germany', [57.2, 55.4, 59, 59, 53.6]],\n",
    "['Russia', [35.6, 37.4, 39.2, 41, 42.8, 39.2, 35.6]],\n",
    "['Poland', [50, 50, 53.6, 57.2, 55.4, 55.4]]\n",
    "]\n",
    "\n",
    "print(\"Средняя температура в странах:\")\n",
    "for i in range(0, len(countries_temperature)):\n",
    "    t_average = round(5 * (sum(countries_temperature[i][1]) / len(countries_temperature[i][1]) - 32) / 9, 1)\n",
    "    print(str(countries_temperature[i][0]) + \" - \" + str(t_average) + \" C\")\n"
   ]
  },
  {
   "cell_type": "code",
   "execution_count": 9,
   "metadata": {},
   "outputs": [
    {
     "name": "stdout",
     "output_type": "stream",
     "text": [
      "Среднее количество просмотров на уникального пользователя: 23.25\n"
     ]
    }
   ],
   "source": [
    "#задание №5\n",
    "\n",
    "stream = [\n",
    "'2018-01-01,user1,3',\n",
    "'2018-01-07,user1,4',\n",
    "'2018-03-29,user1,1',\n",
    "'2018-04-04,user1,13',\n",
    "'2018-01-05,user2,7',\n",
    "'2018-06-14,user3,4',\n",
    "'2018-07-02,user3,10',\n",
    "'2018-03-21,user4,19',\n",
    "'2018-03-22,user4,4',\n",
    "'2018-04-22,user4,8',\n",
    "'2018-05-03,user4,9',\n",
    "'2018-05-11,user4,11',\n",
    "]\n",
    "\n",
    "summ = 0\n",
    "users = [''] * len(stream)\n",
    "for i in range(0, len(stream)):\n",
    "    splitted_string = stream[i].split(\",\")\n",
    "    summ = summ + int(splitted_string[2]) \n",
    "    users[i] = splitted_string[1]\n",
    "    \n",
    "print(f'Среднее количество просмотров на уникального пользователя: {str(float(summ) / len(np.unique(users)))}')\n"
   ]
  },
  {
   "cell_type": "code",
   "execution_count": 10,
   "metadata": {},
   "outputs": [
    {
     "name": "stdout",
     "output_type": "stream",
     "text": [
      "Введите числа, разделенные пробелом: 2 2 2 33 33 33 4 55 55 77 67 67\n",
      "Результат:\n",
      " 2 33 55 67\n"
     ]
    }
   ],
   "source": [
    "#задание №6\n",
    "\n",
    "str_output = ''\n",
    "\n",
    "input_string = input('Введите числа, разделенные пробелом: ')\n",
    "splitted_string = input_string.split(' ')       #оформляю каждое число отдельной подстрокой в составе массива, \n",
    "                                                #разделитель \"пробел\"\n",
    "\n",
    "rez_array = ['', 0] * len(splitted_string)      #массив \"строка-количество появлений, инициирую \"\" и 0\n",
    "\n",
    "for num in splitted_string:        #перебор массива подстрок-чисел\n",
    "    try:\n",
    "        test_num = int(num)      #если подстрока есть число, то \n",
    "        try:\n",
    "            index = rez_array.index(num) #нахожу вхождение и-го числа в рез массиве и + количество\n",
    "            rez_array[index + 1] += 1\n",
    "        except ValueError:\n",
    "            index = rez_array.index('')         #если не было еще этого числа, то заношу его в рез массив и + количество\n",
    "            rez_array[index] = num\n",
    "            rez_array[index + 1] += 1\n",
    "    except ValueError:\n",
    "        print(\"Это не правильный ввод.\") \n",
    "        \n",
    "for i in range(0, len(rez_array), 2):\n",
    "    if rez_array[i + 1] > 1:\n",
    "        str_output = str_output + \" \" + rez_array[i]\n",
    "\n",
    "print(\"Результат:\")\n",
    "if str_output != '':\n",
    "    print(str_output)\n",
    "else:\n",
    "    print('повторяющихся чисел нет')\n",
    "\n"
   ]
  },
  {
   "cell_type": "code",
   "execution_count": null,
   "metadata": {},
   "outputs": [],
   "source": []
  }
 ],
 "metadata": {
  "kernelspec": {
   "display_name": "Python 3",
   "language": "python",
   "name": "python3"
  },
  "language_info": {
   "codemirror_mode": {
    "name": "ipython",
    "version": 3
   },
   "file_extension": ".py",
   "mimetype": "text/x-python",
   "name": "python",
   "nbconvert_exporter": "python",
   "pygments_lexer": "ipython3",
   "version": "3.8.5"
  }
 },
 "nbformat": 4,
 "nbformat_minor": 4
}
