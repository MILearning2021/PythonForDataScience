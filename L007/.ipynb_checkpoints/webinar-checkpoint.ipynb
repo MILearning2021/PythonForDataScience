{
 "cells": [
  {
   "cell_type": "code",
   "execution_count": 2,
   "id": "b97cf2e3",
   "metadata": {},
   "outputs": [],
   "source": [
    "#классы"
   ]
  },
  {
   "cell_type": "code",
   "execution_count": 16,
   "id": "01396fff",
   "metadata": {},
   "outputs": [],
   "source": [
    "class AnyClass:\n",
    "    def __init__(self): #инициализация инстанса\n",
    "        currency_local = 'rub'\n",
    "        self.currency = 'usd'\n",
    "        self.value = 'Value!'\n",
    "    \n",
    "    @staticmethod #позволяет в методе не использовать переменную self\n",
    "    def method_2():\n",
    "        print('Message!')\n",
    "        \n",
    "    def method_3(self):\n",
    "        print(self.value)"
   ]
  },
  {
   "cell_type": "code",
   "execution_count": 17,
   "id": "ed4a2f1e",
   "metadata": {},
   "outputs": [
    {
     "name": "stdout",
     "output_type": "stream",
     "text": [
      "Message!\n"
     ]
    }
   ],
   "source": [
    "a = AnyClass()\n",
    "a.method_2()"
   ]
  },
  {
   "cell_type": "code",
   "execution_count": 18,
   "id": "a63c8b3d",
   "metadata": {},
   "outputs": [
    {
     "name": "stdout",
     "output_type": "stream",
     "text": [
      "Value!\n"
     ]
    }
   ],
   "source": [
    "a.method_3()"
   ]
  },
  {
   "cell_type": "code",
   "execution_count": null,
   "id": "e7c94d15",
   "metadata": {},
   "outputs": [],
   "source": [
    "#классы на примере Яндес.Метрики"
   ]
  },
  {
   "cell_type": "code",
   "execution_count": null,
   "id": "35310111",
   "metadata": {},
   "outputs": [],
   "source": []
  }
 ],
 "metadata": {
  "kernelspec": {
   "display_name": "Python 3",
   "language": "python",
   "name": "python3"
  },
  "language_info": {
   "codemirror_mode": {
    "name": "ipython",
    "version": 3
   },
   "file_extension": ".py",
   "mimetype": "text/x-python",
   "name": "python",
   "nbconvert_exporter": "python",
   "pygments_lexer": "ipython3",
   "version": "3.8.8"
  }
 },
 "nbformat": 4,
 "nbformat_minor": 5
}
