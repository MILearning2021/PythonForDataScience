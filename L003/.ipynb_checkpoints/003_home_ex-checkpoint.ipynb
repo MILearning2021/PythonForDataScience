{
 "cells": [
  {
   "cell_type": "code",
   "execution_count": 65,
   "id": "43d2ee29",
   "metadata": {},
   "outputs": [],
   "source": [
    "import numpy as np"
   ]
  },
  {
   "cell_type": "code",
   "execution_count": 66,
   "id": "d3a2d094",
   "metadata": {},
   "outputs": [],
   "source": [
    "#перечень всех документов\n",
    "\n",
    "documents = [\n",
    "    {'type': 'passport', 'number': '2207 876234', 'name': 'Василий Гупкин'},\n",
    "    {'type': 'invoice', 'number': '11-2', 'name': 'Геннадий Покемонов'},\n",
    "    {'type': 'insurance', 'number': '10006', 'name': 'Аристарх Павлов'}\n",
    "]\n",
    "\n",
    "#перечень полок, на которых хранятся документы (если документ есть в documents, то он обязательно должен быть \n",
    "#и в directories)\n",
    "\n",
    "directories = {\n",
    "    '1': ['2207 876234', '11-2'],\n",
    "    '2': ['10006'],\n",
    "    '3': []\n",
    "}"
   ]
  },
  {
   "cell_type": "code",
   "execution_count": 67,
   "id": "3376a418",
   "metadata": {},
   "outputs": [],
   "source": [
    "#задание №1\n",
    "#Пункт 1. Пользователь по команде \"p\" может узнать владельца документа по его номеру\n",
    "#Пункт 2. Пользователь по команде \"s\" может по номеру документа узнать на какой полке он хранится\n",
    "#Пункт 3. Пользователь по команде \"l\" может увидеть полную информацию по всем документам\n",
    "#Пункт 4. Пользователь по команде \"ads\" может добавить новую полку\n",
    "#Пункт 5. Пользователь по команде \"ds\" может удалить существующую полку из данных (только если она пустая)"
   ]
  },
  {
   "cell_type": "code",
   "execution_count": 96,
   "id": "7a253e66",
   "metadata": {},
   "outputs": [],
   "source": [
    "#проверить наличие документа и вернуть имя владельца\n",
    "def doc_in_documents(doc_num):\n",
    "    '''\n",
    "    проверяет наличие документа в списке документов по его номеру\n",
    "    выводит имя владельца документа в случае удачи или None в случае отсутствия документа\n",
    "    '''\n",
    "    for doc in documents:\n",
    "        if doc['number'] == doc_num:\n",
    "            return doc['name']\n",
    "    return None\n",
    "#на какой полке документ\n",
    "def doc_in_directories(doc_num):\n",
    "    '''\n",
    "    находит документ в шкафу по его номеру\n",
    "    выводит номер полки в случае удачи или None в случае отсутствия документа\n",
    "    '''\n",
    "    for directory in directories:\n",
    "        if directories[directory].count(doc_num) != 0:\n",
    "            return directory\n",
    "    return None\n",
    "#добавить полку\n",
    "def dir_add(dir_num):\n",
    "    '''\n",
    "    добавляет пустую полку в шкаф\n",
    "    выводит перечень полок и, в случае удачи, None, а в случае наличия полки с таким номером - True\n",
    "    '''\n",
    "    for directory in directories:\n",
    "        if directory == dir_num:          \n",
    "            return True, list(directories.keys())\n",
    "    directories[dir_num] = []\n",
    "    return None, list(directories.keys())\n",
    "#удаление пустой полки\n",
    "def dir_del(dir_num):\n",
    "    '''\n",
    "    удаляет пустую полку из шкафа\n",
    "    выводит перечень полок и, в случае удачи, True, в случае, если на полке есть документы - False,\n",
    "    в случае отсутствия в шкафу полки с таким номером - None\n",
    "    '''\n",
    "    for directory in directories:\n",
    "        if directory == dir_num:\n",
    "            if len(directories[directory]) == 0:\n",
    "                del(directories[directory])\n",
    "                return True, list(directories.keys())\n",
    "            else:\n",
    "                return False, list(directories.keys())\n",
    "    return None, list(directories.keys())"
   ]
  },
  {
   "cell_type": "code",
   "execution_count": 92,
   "id": "30f43f08",
   "metadata": {},
   "outputs": [
    {
     "name": "stdout",
     "output_type": "stream",
     "text": [
      "Введите команду: ds\n",
      "Введите номер полки: 2\n",
      "На полке есть документы. Удалите их перед удалением полки. Текущий перечень полок:  1, 2, 3, 5, 12, 56, 67, 88, 99, 100\n",
      "Введите команду: ds\n",
      "Введите номер полки: 55\n",
      "Такая полка не существует. Текущий перечень полок:  1, 2, 3, 5, 12, 56, 67, 88, 99, 100\n",
      "Введите команду: ds\n",
      "Введите номер полки: 12\n",
      "Полка удалена. Текущий перечень полок:  1, 2, 3, 5, 56, 67, 88, 99, 100\n",
      "Введите команду: q\n",
      "Неизвестная команда \"q\".\n",
      "Сеанс завершен.\n"
     ]
    }
   ],
   "source": [
    "#основной цикл - цикл запроса команд\n",
    "cmd = ''\n",
    "while cmd != 'q':\n",
    "    cmd = input('Введите команду: ')\n",
    "    if cmd == 'p':\n",
    "        ret = doc_in_documents(input('Введите номер документа: '))\n",
    "        if ret != None:\n",
    "            print(f'Владелец документа: {ret}')\n",
    "        else:\n",
    "            print('Документ не найден в базе.')\n",
    "    elif cmd == 's':\n",
    "        ret = doc_in_directories(input('Введите номер документа: '))\n",
    "        if ret != None:\n",
    "            print(f'Документ хранится на полке: {ret}')\n",
    "        else:\n",
    "            print('Документ не найден в базе.')\n",
    "    elif cmd == 'l':\n",
    "        for doc in documents:\n",
    "            doc_num = doc['number']\n",
    "            doc_type = doc['type']\n",
    "            doc_name = doc['name']\n",
    "            print(f'№: {doc_num}, тип: {doc_type}, владелец: {doc_name}, полка хранения: {doc_in_directories(doc_num)}')\n",
    "    elif cmd == 'ads':\n",
    "        ret, dir_list = dir_add(input('Введите номер полки: '))\n",
    "        if ret != None:\n",
    "            print('Такая полка уже существует. Текущий перечень полок: ', ', '.join(dir_list))\n",
    "        else:\n",
    "            print('Полка добавлена. Текущий перечень полок: ', ', '.join(dir_list))\n",
    "    elif cmd == 'ds':    \n",
    "        ret, dir_list = dir_del(input('Введите номер полки: '))\n",
    "        if ret == True:\n",
    "            print('Полка удалена. Текущий перечень полок: ', ', '.join(dir_list))\n",
    "        elif ret == False:\n",
    "            print('На полке есть документы. Удалите их перед удалением полки. Текущий перечень полок: ', ', '.join(dir_list))\n",
    "        else:\n",
    "            print('Такая полка не существует. Текущий перечень полок: ', ', '.join(dir_list))\n",
    "    else:\n",
    "        print(f'Неизвестная команда \"{cmd}\".')\n",
    "print('Сеанс завершен.')"
   ]
  },
  {
   "cell_type": "code",
   "execution_count": null,
   "id": "527babdb",
   "metadata": {},
   "outputs": [],
   "source": []
  },
  {
   "cell_type": "code",
   "execution_count": null,
   "id": "d4f8e93d",
   "metadata": {},
   "outputs": [],
   "source": []
  }
 ],
 "metadata": {
  "kernelspec": {
   "display_name": "Python 3",
   "language": "python",
   "name": "python3"
  },
  "language_info": {
   "codemirror_mode": {
    "name": "ipython",
    "version": 3
   },
   "file_extension": ".py",
   "mimetype": "text/x-python",
   "name": "python",
   "nbconvert_exporter": "python",
   "pygments_lexer": "ipython3",
   "version": "3.8.8"
  }
 },
 "nbformat": 4,
 "nbformat_minor": 5
}
