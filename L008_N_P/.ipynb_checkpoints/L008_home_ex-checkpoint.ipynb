{
 "cells": [
  {
   "cell_type": "code",
   "execution_count": 40,
   "id": "f3fcbffd",
   "metadata": {},
   "outputs": [],
   "source": [
    "import numpy as np\n",
    "from numpy import linalg"
   ]
  },
  {
   "cell_type": "markdown",
   "id": "10628819",
   "metadata": {},
   "source": [
    "Задание 1\n",
    "Создайте numpy array с элементами от числа N до 0 (например, для N = 10 это будет array([9, 8, 7, 6, 5, 4, 3, 2, 1, 0]))."
   ]
  },
  {
   "cell_type": "code",
   "execution_count": 15,
   "id": "df38f6f6",
   "metadata": {},
   "outputs": [
    {
     "data": {
      "text/plain": [
       "array([9, 8, 7, 6, 5, 4, 3, 2, 1, 0])"
      ]
     },
     "execution_count": 15,
     "metadata": {},
     "output_type": "execute_result"
    }
   ],
   "source": [
    "N = 10\n",
    "arr = np.arange(start = N - 1, stop = -1, step = -1)\n",
    "arr"
   ]
  },
  {
   "cell_type": "markdown",
   "id": "357f95a2",
   "metadata": {},
   "source": [
    "Задание 2\n",
    "Создайте диагональную матрицу с элементами от N до 0. Посчитайте сумму ее значений на диагонали."
   ]
  },
  {
   "cell_type": "code",
   "execution_count": 37,
   "id": "d4722fd4",
   "metadata": {},
   "outputs": [
    {
     "name": "stdout",
     "output_type": "stream",
     "text": [
      "[[9. 0. 0. 0. 0. 0. 0. 0. 0. 0.]\n",
      " [0. 8. 0. 0. 0. 0. 0. 0. 0. 0.]\n",
      " [0. 0. 7. 0. 0. 0. 0. 0. 0. 0.]\n",
      " [0. 0. 0. 6. 0. 0. 0. 0. 0. 0.]\n",
      " [0. 0. 0. 0. 5. 0. 0. 0. 0. 0.]\n",
      " [0. 0. 0. 0. 0. 4. 0. 0. 0. 0.]\n",
      " [0. 0. 0. 0. 0. 0. 3. 0. 0. 0.]\n",
      " [0. 0. 0. 0. 0. 0. 0. 2. 0. 0.]\n",
      " [0. 0. 0. 0. 0. 0. 0. 0. 1. 0.]\n",
      " [0. 0. 0. 0. 0. 0. 0. 0. 0. 0.]] 45.0\n",
      "[[9 0 0 0 0 0 0 0 0 0]\n",
      " [0 8 0 0 0 0 0 0 0 0]\n",
      " [0 0 7 0 0 0 0 0 0 0]\n",
      " [0 0 0 6 0 0 0 0 0 0]\n",
      " [0 0 0 0 5 0 0 0 0 0]\n",
      " [0 0 0 0 0 4 0 0 0 0]\n",
      " [0 0 0 0 0 0 3 0 0 0]\n",
      " [0 0 0 0 0 0 0 2 0 0]\n",
      " [0 0 0 0 0 0 0 0 1 0]\n",
      " [0 0 0 0 0 0 0 0 0 0]] 45\n"
     ]
    }
   ],
   "source": [
    "#v1\n",
    "arr_1 = np.eye(N)\n",
    "print(arr_1 * arr, (arr_1 * arr).sum())\n",
    "#v2\n",
    "matrix_2 = np.diag(arr, k=0)\n",
    "print(matrix_2, matrix_2.sum())"
   ]
  },
  {
   "cell_type": "markdown",
   "id": "8e4ffc1a",
   "metadata": {},
   "source": [
    "Задание 3\n",
    "Решите систему уравнений:\n",
    "4x + 2y + z = 4-----\n",
    "x + 3y = 12-----\n",
    "5y + 4z = -3"
   ]
  },
  {
   "cell_type": "code",
   "execution_count": 49,
   "id": "8fab7020",
   "metadata": {},
   "outputs": [
    {
     "name": "stdout",
     "output_type": "stream",
     "text": [
      "[ 0.46666667  3.84444444 -5.55555556] [ 4. 12. -3.] True\n"
     ]
    }
   ],
   "source": [
    "a = np.array([[4,2,1],[1,3,0],[0,5,4]])\n",
    "b = np.array([4,12,-3])\n",
    "\n",
    "solve_ = linalg.solve(a, b) # решили систему линейных уравнений\n",
    "calculation_ = np.dot(a, solve_)\n",
    "print(solve_, calculation_, np.allclose(calculation_, b))#проверили решение методом поэлементного сравнения"
   ]
  },
  {
   "cell_type": "markdown",
   "id": "728a506a",
   "metadata": {},
   "source": [
    "Задание 4\n",
    "Имеется матрица покупок в интернет-магазине. Столбец А - ID пользователя(№ строки + 1). Остальные столбцы - количество покупок категорий товаров этим пользователем.\n",
    "На сайт заходит очередной посетитель, о покупках которого известно следующее: next_user_stats.\n",
    "Найдите самого похожего пользователя. Т. е. посчитайте косинусное сходство между этим пользователем и всеми пользователями из массива user_stats."
   ]
  },
  {
   "cell_type": "code",
   "execution_count": 53,
   "id": "5a7905aa",
   "metadata": {},
   "outputs": [
    {
     "data": {
      "text/plain": [
       "array([2, 1, 0, 0, 0, 0])"
      ]
     },
     "execution_count": 53,
     "metadata": {},
     "output_type": "execute_result"
    }
   ],
   "source": [
    "users_stats = np.array(\n",
    "    [\n",
    "        [2, 1, 0, 0, 0, 0],\n",
    "        [1, 1, 2, 1, 0, 0],\n",
    "        [2, 0, 1, 0, 0, 0],\n",
    "        [1, 1, 2, 1, 0, 1],\n",
    "        [0, 0, 1, 2, 0, 0],\n",
    "        [0, 0, 0, 0, 0, 5],\n",
    "        [1, 0, 0, 0, 0, 0],\n",
    "        [0, 1, 1, 0, 0, 0],\n",
    "        [0, 0, 0, 1, 1, 3],\n",
    "        [1, 0, 0, 2, 1, 4]\n",
    "    ]\n",
    ")\n",
    "\n",
    "next_user_stats = np.array([0, 1, 2, 0, 0, 0])"
   ]
  },
  {
   "cell_type": "code",
   "execution_count": 61,
   "id": "8dec0b9f",
   "metadata": {},
   "outputs": [
    {
     "name": "stdout",
     "output_type": "stream",
     "text": [
      "Наибольшее сходство с пользователем \"8\" с косинусной метрикой 0.9486832980505138\n"
     ]
    }
   ],
   "source": [
    "cos_metric_max = 0\n",
    "user_ID = 0\n",
    "for uid, item in enumerate(users_stats):\n",
    "    cos_metric = np.dot(item, next_user_stats) / ((np.linalg.norm(item) * np.linalg.norm(next_user_stats)))\n",
    "    if cos_metric_max < cos_metric:\n",
    "        cos_metric_max = cos_metric\n",
    "        user_ID = uid + 1\n",
    "\n",
    "print(f'Наибольшее сходство с пользователем \"{user_ID}\" с косинусной метрикой {cos_metric_max}')\n",
    "        "
   ]
  },
  {
   "cell_type": "code",
   "execution_count": null,
   "id": "31d0afff",
   "metadata": {},
   "outputs": [],
   "source": []
  }
 ],
 "metadata": {
  "kernelspec": {
   "display_name": "Python 3",
   "language": "python",
   "name": "python3"
  },
  "language_info": {
   "codemirror_mode": {
    "name": "ipython",
    "version": 3
   },
   "file_extension": ".py",
   "mimetype": "text/x-python",
   "name": "python",
   "nbconvert_exporter": "python",
   "pygments_lexer": "ipython3",
   "version": "3.8.8"
  }
 },
 "nbformat": 4,
 "nbformat_minor": 5
}
