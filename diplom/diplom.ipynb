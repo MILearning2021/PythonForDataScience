{
 "cells": [
  {
   "cell_type": "markdown",
   "id": "bf12eb14",
   "metadata": {},
   "source": [
    "<a id=\"title\"></a>\n",
    "# <center> Дипломная работа </center>"
   ]
  },
  {
   "cell_type": "markdown",
   "id": "e1fdb091",
   "metadata": {},
   "source": [
    "<a id=\"Table-Of-Contents\"></a>\n",
    "# Содержание\n",
    "* [Содержание](#Table-Of-Contents)\n",
    "* [Описание задачи](#Task-Details)\n",
    "* [Описание переменных](#Feature-Description)\n",
    "* [Импорт используемых библиотек](#Importing-Libraries)\n",
    "* [Задание №1. Чтение данных файла HR.csv](#Read-in-Data)\n",
    "* [Выполнение заданий работы](#Completing_a_task)\n",
    "    - [Задание №2. Расчет основных статистик для переменных](#Calculation_of_basic_statistics)\n",
    "    - [Задание №3. Расчет и визуализация корреляционной матрицы для количественных переменных.\n",
    "       Определение двух самых скоррелированных переменных и двух наименее скоррелированных \n",
    "       переменных](#The_correlation_matrix)\n",
    "    - [Задание №4. Количество сотрудников в отделах](#Number_of_employees)\n",
    "    - [Задание №5. Распределение сотрудников по зарплатам](#Distribution_of_employees_by_salary)\n",
    "    - [Задание №6. Распределение сотрудников по зарплатам в каждом отделе](#Distribution_of_employees_by_salary_by_deprtment)\n",
    "    - [Задание №7. Проверить гипотезу, что сотрудники с высоким окладом проводят на работе больше времени, \n",
    "       чем сотрудники с низким окладом](#Working_time_hypothesis)\n",
    "    - [Задание №8. Расчет следующих показателей среди уволившихся и не уволившихся сотрудников \n",
    "       (по отдельности): доля сотрудников с повышением за последние 5 лет, средняя степень удовлетворенности,\n",
    "       среднее количество проектов](#Calculation_of_indicators)\n",
    "    - [Задание №9. Разделить данные на тестовую и обучающую выборки. Построить модель LDA, предсказывающую \n",
    "       уволился ли сотрудник на основе имеющихся факторов (кроме department и salary). Оценить качество \n",
    "       модели на тестовой выборке](#LDA_model)\n",
    "    - [Задание №10. Загрузить задание на Github](https://github.com/MILearning2021/PythonForDataScience/blob/main/diplom/diplom.ipynb)\n",
    "        \n",
    "* [Заключение](#Conclusion)"
   ]
  },
  {
   "cell_type": "markdown",
   "id": "5a484df5",
   "metadata": {},
   "source": [
    "<a id=\"Task-Details\"></a>\n",
    "# Описание задачи\n",
    "\n",
    "Выполнение исследования набора данных (всего 7 задач).\n",
    "Построение модели предсказания вероятности увольнения сотрудника."
   ]
  },
  {
   "cell_type": "markdown",
   "id": "6cab5341",
   "metadata": {},
   "source": [
    "<a id=\"Feature-Description\"></a>\n",
    "# Описание переменных\n",
    "\n",
    "1. satisfaction_level - уровень удовлетворенности работой\n",
    "2. Last_evaluation - время с момента последней оценки в годах\n",
    "3. number_projects - количество проектов, выполненных за время работы\n",
    "4. average_monthly_hours - среднее количество часов на рабочем месте в месяц\n",
    "5. time_spend_company - стаж работы в компании в годах\n",
    "6. work_accident - происходили ли несчастные случаи на рабочем месте с сотрудником\n",
    "7. left - уволился ли сотрудник\n",
    "8. promotion_last_5years - повышался ли сотрудник за последние пять лет\n",
    "9. department - отдел в котором работает сотрудник\n",
    "10. salary - относительный уровень зарплаты\n"
   ]
  },
  {
   "cell_type": "markdown",
   "id": "71958d30",
   "metadata": {},
   "source": [
    "<a id=\"Importing-Libraries\"></a>\n",
    "# Импорт используемых библиотек"
   ]
  },
  {
   "cell_type": "code",
   "execution_count": 17,
   "id": "7698fcb5",
   "metadata": {},
   "outputs": [],
   "source": [
    "#основные библиотеки\n",
    "import os\n",
    "import numpy as np\n",
    "import pandas as pd\n",
    "from pprint import pprint\n",
    "\n",
    "#игнорирование сообщений\n",
    "#import warnings\n",
    "#warnings.filterwarnings('ignore')"
   ]
  },
  {
   "cell_type": "markdown",
   "id": "ca0b76e0",
   "metadata": {},
   "source": [
    "<a id=\"Read-in-Data\"></a>\n",
    "# Задание №1. Чтение данных файла HR.csv"
   ]
  },
  {
   "cell_type": "code",
   "execution_count": 57,
   "id": "960a0308",
   "metadata": {},
   "outputs": [
    {
     "name": "stdout",
     "output_type": "stream",
     "text": [
      "Информация о структуре данных HR:\n",
      "\n",
      "<class 'pandas.core.frame.DataFrame'>\n",
      "RangeIndex: 14999 entries, 0 to 14998\n",
      "Data columns (total 10 columns):\n",
      " #   Column                 Non-Null Count  Dtype  \n",
      "---  ------                 --------------  -----  \n",
      " 0   satisfaction_level     14999 non-null  float64\n",
      " 1   last_evaluation        14999 non-null  float64\n",
      " 2   number_project         14999 non-null  int64  \n",
      " 3   average_montly_hours   14999 non-null  int64  \n",
      " 4   time_spend_company     14999 non-null  int64  \n",
      " 5   Work_accident          14999 non-null  int64  \n",
      " 6   left                   14999 non-null  int64  \n",
      " 7   promotion_last_5years  14999 non-null  int64  \n",
      " 8   department             14999 non-null  object \n",
      " 9   salary                 14999 non-null  object \n",
      "dtypes: float64(2), int64(6), object(2)\n",
      "memory usage: 1.1+ MB\n",
      "None \n",
      "\n",
      "Пример данных HR: \n",
      "    satisfaction_level  last_evaluation  number_project  average_montly_hours  \\\n",
      "0                 0.38             0.53               2                   157   \n",
      "4                 0.37             0.52               2                   159   \n",
      "5                 0.41             0.50               2                   153   \n",
      "9                 0.42             0.53               2                   142   \n",
      "10                0.45             0.54               2                   135   \n",
      "\n",
      "    time_spend_company  Work_accident  left  promotion_last_5years department  \\\n",
      "0                    3              0     1                      0      sales   \n",
      "4                    3              0     1                      0      sales   \n",
      "5                    3              0     1                      0      sales   \n",
      "9                    3              0     1                      0      sales   \n",
      "10                   3              0     1                      0      sales   \n",
      "\n",
      "   salary  \n",
      "0     low  \n",
      "4     low  \n",
      "5     low  \n",
      "9     low  \n",
      "10    low  \n"
     ]
    }
   ],
   "source": [
    "#читае файл из локального каталога\n",
    "#создается структура DataFrame с данными HR - HR_data\n",
    "with open(os.getcwd() + \"/HR.csv\") as HR_file:\n",
    "    HR_data = pd.read_csv(HR_file)\n",
    "#посмотрим информацию структуре данных\n",
    "print('Информация о структуре данных HR:\\n')\n",
    "print(HR_data.info(verbose = True, show_counts = True),'\\n')\n",
    "#посмотрим на данные, для примера используем 5 первых записей условной выборки\n",
    "print(f'Пример данных HR: \\n{HR_data[HR_data[\"number_project\"] == 2][:5]}')"
   ]
  },
  {
   "cell_type": "markdown",
   "id": "b4e9d86b",
   "metadata": {},
   "source": [
    "<a id=\"Completing_a_task\"></a>\n",
    "# Выполнение заданий работы"
   ]
  },
  {
   "cell_type": "markdown",
   "id": "1cbbc7e5",
   "metadata": {},
   "source": [
    "<a id=\"Calculation_of_basic_statistics\"></a>\n",
    "# Задание №2. Расчет основных статистик для переменных."
   ]
  },
  {
   "cell_type": "markdown",
   "id": "df257f43",
   "metadata": {},
   "source": [
    "<a id=\"The_correlation_matrix\"></a>\n",
    "# Задание №3. Расчет и визуализация корреляционной матрицы для количественных переменных. Определение двух самых скоррелированных переменных и двух наименее скоррелированных переменных."
   ]
  },
  {
   "cell_type": "markdown",
   "id": "29f19d1a",
   "metadata": {},
   "source": [
    "<a id=\"Number_of_employees\"></a>\n",
    "# Задание №4. Количество сотрудников в отделах."
   ]
  },
  {
   "cell_type": "markdown",
   "id": "73101be8",
   "metadata": {},
   "source": [
    "<a id=\"Distribution_of_employees_by_salary\"></a>\n",
    "# Задание №5. Распределение сотрудников по зарплатам."
   ]
  },
  {
   "cell_type": "markdown",
   "id": "cbaddd32",
   "metadata": {},
   "source": [
    "<a id=\"Distribution_of_employees_by_salary_by_deprtment\"></a>\n",
    "# Задание №6. Распределение сотрудников по зарплатам в каждом отделе."
   ]
  },
  {
   "cell_type": "markdown",
   "id": "e9c05bc0",
   "metadata": {},
   "source": [
    "<a id=\"Working_time_hypothesis\"></a>\n",
    "# Задание №7. Проверить гипотезу о том, что сотрудники с высоким окладом проводят на работе больше времени, чем сотрудники с низким окладом."
   ]
  },
  {
   "cell_type": "markdown",
   "id": "719220a2",
   "metadata": {},
   "source": [
    "<a id=\"Calculation_of_indicators\"></a>\n",
    "# Задание №8. Расчет следующих показателей среди уволившихся и не уволившихся сотрудников (по отдельности): доля сотрудников с повышением за последние 5 лет, средняя степень удовлетворенности, среднее количество проектов."
   ]
  },
  {
   "cell_type": "markdown",
   "id": "28deb1f5",
   "metadata": {},
   "source": [
    "<a id=\"LDA_model\"></a>\n",
    "# Задание №9. Разделить данные на тестовую и обучающую выборки. Построить модель LDA, предсказывающую уволился ли сотрудник на основе имеющихся факторов (кроме department и salary). Оценить качество модели на тестовой выборке."
   ]
  },
  {
   "cell_type": "markdown",
   "id": "ad203be3",
   "metadata": {},
   "source": [
    "<a id=\"Conclusion\"></a>\n",
    "# Заключение"
   ]
  },
  {
   "cell_type": "code",
   "execution_count": null,
   "id": "a4eb1f42",
   "metadata": {},
   "outputs": [],
   "source": []
  }
 ],
 "metadata": {
  "kernelspec": {
   "display_name": "Python 3",
   "language": "python",
   "name": "python3"
  },
  "language_info": {
   "codemirror_mode": {
    "name": "ipython",
    "version": 3
   },
   "file_extension": ".py",
   "mimetype": "text/x-python",
   "name": "python",
   "nbconvert_exporter": "python",
   "pygments_lexer": "ipython3",
   "version": "3.8.8"
  }
 },
 "nbformat": 4,
 "nbformat_minor": 5
}
