{
 "cells": [
  {
   "cell_type": "code",
   "execution_count": null,
   "id": "47d8d73c",
   "metadata": {},
   "outputs": [],
   "source": [
    "#классы"
   ]
  },
  {
   "cell_type": "code",
   "execution_count": 7,
   "id": "b0f56cd4",
   "metadata": {},
   "outputs": [
    {
     "name": "stdout",
     "output_type": "stream",
     "text": [
      "3 0\n"
     ]
    }
   ],
   "source": [
    "#простая функция для подсчета количества \"столбцов\"\n",
    "line = '2019-07-01,organic,4293'\n",
    "\n",
    "def line_count(line, count_empty_line = True):\n",
    "    if count_empty_line:\n",
    "        return len(line.split(','))\n",
    "    else:\n",
    "        return 0\n",
    "\n",
    "print(line_count(line),line_count('', False))\n"
   ]
  },
  {
   "cell_type": "code",
   "execution_count": 33,
   "id": "aef8addc",
   "metadata": {},
   "outputs": [],
   "source": [
    "#простой класс\n",
    "\n",
    "class AnyName:\n",
    "    def method_1(self): #метод\n",
    "        self.currency = 'usd' #свойство\n",
    "        \n",
    "    def method_2(self): #метод\n",
    "        print(self.currency)"
   ]
  },
  {
   "cell_type": "code",
   "execution_count": 34,
   "id": "916bd369",
   "metadata": {},
   "outputs": [
    {
     "ename": "SyntaxError",
     "evalue": "invalid syntax (<ipython-input-34-2bdb53bb06db>, line 5)",
     "output_type": "error",
     "traceback": [
      "\u001b[0;36m  File \u001b[0;32m\"<ipython-input-34-2bdb53bb06db>\"\u001b[0;36m, line \u001b[0;32m5\u001b[0m\n\u001b[0;31m    a.\u001b[0m\n\u001b[0m      ^\u001b[0m\n\u001b[0;31mSyntaxError\u001b[0m\u001b[0;31m:\u001b[0m invalid syntax\n"
     ]
    }
   ],
   "source": [
    "a = AnyName()\n",
    "a.method_1()\n",
    "a.method_2()\n",
    "a.currency"
   ]
  },
  {
   "cell_type": "code",
   "execution_count": null,
   "id": "4619abf5",
   "metadata": {},
   "outputs": [],
   "source": [
    "# метод __init__ при вызовое класса В1\n",
    "class Rate():\n",
    "    def __init__(self):\n",
    "        self.format = 'value'\n",
    "    \n",
    "    def show_current_format(self):\n",
    "        return self.format"
   ]
  },
  {
   "cell_type": "code",
   "execution_count": 21,
   "id": "e4a16963",
   "metadata": {},
   "outputs": [],
   "source": [
    "# метод __init__ при вызовое класса В2\n",
    "class Rate1():\n",
    "    def __init__(self, format_ = 'value'):\n",
    "        self.format = format_\n",
    "    \n",
    "    def show_current_format(self):\n",
    "        return self.format"
   ]
  },
  {
   "cell_type": "code",
   "execution_count": 30,
   "id": "acbb9c2b",
   "metadata": {},
   "outputs": [],
   "source": [
    "# создадим класс Employee, свойства: имя и текущая зарплата, методы: UP и print\n",
    "\n",
    "class Employee:\n",
    "    def __init__(self, name, salary):\n",
    "        self.name = name\n",
    "        self.salary = salary\n",
    "    \n",
    "    def up(self):\n",
    "        self.salary += 100\n",
    "        \n",
    "    def print_(self):\n",
    "        print(f'Сотрудник {self.name}, зарплата {self.salary}')\n"
   ]
  },
  {
   "cell_type": "code",
   "execution_count": 31,
   "id": "3bdbbca2",
   "metadata": {},
   "outputs": [
    {
     "data": {
      "text/plain": [
       "50"
      ]
     },
     "execution_count": 31,
     "metadata": {},
     "output_type": "execute_result"
    }
   ],
   "source": [
    "ivan = Employee(name = 'Ivan', salary = 50)\n",
    "ivan.salary"
   ]
  },
  {
   "cell_type": "code",
   "execution_count": 32,
   "id": "db9f131e",
   "metadata": {},
   "outputs": [
    {
     "data": {
      "text/plain": [
       "150"
      ]
     },
     "execution_count": 32,
     "metadata": {},
     "output_type": "execute_result"
    }
   ],
   "source": [
    "ivan.up()\n",
    "ivan.salary"
   ]
  },
  {
   "cell_type": "code",
   "execution_count": null,
   "id": "3cb7e3b6",
   "metadata": {},
   "outputs": [],
   "source": [
    "ivan."
   ]
  }
 ],
 "metadata": {
  "kernelspec": {
   "display_name": "Python 3",
   "language": "python",
   "name": "python3"
  },
  "language_info": {
   "codemirror_mode": {
    "name": "ipython",
    "version": 3
   },
   "file_extension": ".py",
   "mimetype": "text/x-python",
   "name": "python",
   "nbconvert_exporter": "python",
   "pygments_lexer": "ipython3",
   "version": "3.8.8"
  }
 },
 "nbformat": 4,
 "nbformat_minor": 5
}
