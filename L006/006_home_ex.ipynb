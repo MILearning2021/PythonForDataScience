{
 "cells": [
  {
   "cell_type": "code",
   "execution_count": 1,
   "id": "f694c009",
   "metadata": {},
   "outputs": [],
   "source": [
    "from pprint import pprint\n",
    "import json\n"
   ]
  },
  {
   "cell_type": "code",
   "execution_count": 2,
   "id": "75cd0dc0",
   "metadata": {},
   "outputs": [],
   "source": [
    "import requests as rq\n",
    "\n",
    "class Rate():\n",
    "    def __init__(self, format_ = 'value', diff = False): \n",
    "        self.format = format_ #по-умолчанию формат возвращаемых данных о  валюте - только значение курса\n",
    "        self.diff = diff      #по-умолчанию возврат значения курса валюты в методах get_USD и т.д.\n",
    "        \n",
    "    def get_response_from_url(self, url):\n",
    "        \"\"\"\n",
    "        Получает данные по курсам валют с интернет-ресурса.\n",
    "        Параметры: url ресурса.\n",
    "        Возвращает: True в случае удачи, иначе False (без расшифровки ошибки).\n",
    "        Записывает в переменную currency_dict словарь json с данными:\n",
    "        {\n",
    "            \"Date\": \"2021-04-20T11:30:00+03:00\",\n",
    "            \"PreviousDate\": \"2021-04-17T11:30:00+03:00\",\n",
    "            \"PreviousURL\": \"\\/\\/www.cbr-xml-daily.ru\\/archive\\/2021\\/04\\/17\\/daily_json.js\",\n",
    "            \"Timestamp\": \"2021-04-19T14:00:00+03:00\",\n",
    "            \"Valute\": {\n",
    "                        \"AUD\": {\n",
    "                                \"ID\": \"R01010\",\n",
    "                                \"NumCode\": \"036\",\n",
    "                                \"CharCode\": \"AUD\",\n",
    "                                \"Nominal\": 1,\n",
    "                                \"Name\": \"Австралийский доллар\",\n",
    "                                \"Value\": 59.2913,\n",
    "                                \"Previous\": 58.486\n",
    "                    }\n",
    "        }\n",
    "        \"\"\"\n",
    "        #получаем даные\n",
    "        self.response = rq.get(url)\n",
    "        if self.response.status_code == 200:\n",
    "            #в случае удачи в переменную класса записываем ссылку на словарь json с данными\n",
    "            self.currency_dict = json.loads(self.response.content)\n",
    "            return True\n",
    "        else:\n",
    "            return False\n",
    "        \n",
    "    def get_currency_info(self, currency, format_ = 'value'):\n",
    "        \"\"\"\n",
    "        Параметры: currency символьный код валюты, format_ формат вывода данных.\n",
    "        Возвращает: данные по валюте в указанном формате.\n",
    "        \"\"\"\n",
    "        if format_ == 'full':\n",
    "            return self.currency_dict['Valute'][currency] #все данные по валюте\n",
    "        elif format_ == 'value':\n",
    "            return self.currency_dict['Valute'][currency]['Value'] #только курс обмена\n",
    "    \n",
    "    def get_USD(self):\n",
    "        \"\"\"\n",
    "        Параметры: self.diff формат вывода данных (True - изменение курса, False - текущее значение курса)\n",
    "        Возвращает: текущий курс USD (всегда положительное значение) или изменение курса USD \n",
    "        (отрицательное значение означает снижение курса)\n",
    "        \"\"\"\n",
    "        if self.diff:\n",
    "            #изменение курса\n",
    "            return self.currency_dict['Valute']['USD']['Value'] - self.currency_dict['Valute']['USD']['Previous']\n",
    "        else:\n",
    "            #текущий курс обмена\n",
    "            return self.currency_dict['Valute'][currency]['Value']\n",
    "    \n",
    "    def get_EUR(self):\n",
    "        \"\"\"\n",
    "        Параметры: self.diff формат вывода данных (True - изменение курса, False - текущее значение курса)\n",
    "        Возвращает: текущий курс EUR или изменение курса EUR (отрицательное значение означает снижение курса)\n",
    "        \"\"\"\n",
    "        if self.diff:\n",
    "            #изменение курса\n",
    "            return self.currency_dict['Valute']['USD']['Value'] - self.currency_dict['Valute']['USD']['Previous']\n",
    "        else:\n",
    "            #текущий курс обмена\n",
    "            return self.currency_dict['Valute'][currency]['Value'] \n",
    "\n",
    "   "
   ]
  },
  {
   "cell_type": "code",
   "execution_count": 19,
   "id": "d383b281",
   "metadata": {},
   "outputs": [
    {
     "name": "stdout",
     "output_type": "stream",
     "text": [
      "СДР (специальные права заимствования)\n",
      "СДР (специальные права заимствования) 110.231\n"
     ]
    }
   ],
   "source": [
    "#Задание 1\n",
    "#Напишите функцию, которая возвращает название валюты (поле ‘Name’) с максимальным значением курса с помощью \n",
    "#сервиса https://www.cbr-xml-daily.ru/daily_json.js\n",
    "\n",
    "max_value = 0\n",
    "\n",
    "cur_class = Rate()\n",
    "if cur_class.get_response_from_url('https://www.cbr-xml-daily.ru/daily_json.js'):\n",
    "    #вариант препода\n",
    "    data_dict = cur_class.currency_dict['Valute']\n",
    "    print(max(data_dict.items(), key=lambda x: x[1]['Value'])[1]['Name'])\n",
    "    #мой вариант\n",
    "    for currency in cur_class.currency_dict['Valute']: \n",
    "        if max_value < cur_class.currency_dict['Valute'][currency]['Value']:\n",
    "            max_value = cur_class.currency_dict['Valute'][currency]['Value']\n",
    "            max_value_currency_name = cur_class.currency_dict['Valute'][currency]['Name']\n",
    "    print(max_value_currency_name, max_value)\n",
    "else:\n",
    "    print('Ошибка чтения данных сервиса!')"
   ]
  },
  {
   "cell_type": "code",
   "execution_count": 77,
   "id": "79abce1f",
   "metadata": {},
   "outputs": [
    {
     "name": "stdout",
     "output_type": "stream",
     "text": [
      "70.5324\n",
      "0.6955999999999989\n"
     ]
    }
   ],
   "source": [
    "#Задание 2\n",
    "#Добавьте в класс Rate параметр diff (со значениями True или False), который в случае значения True \n",
    "#в методах курсов валют (eur, usd итд) будет возвращать не курс валюты, а изменение по сравнению \n",
    "#с прошлым значением. Считайте, self.diff будет принимать значение True только при возврате значения курса. \n",
    "#При отображении всей информации о валюте он не используется.\n",
    "\n",
    "print(cur_class.get_USD())\n",
    "cur_class.diff = True\n",
    "print(cur_class.get_USD())"
   ]
  },
  {
   "cell_type": "code",
   "execution_count": 118,
   "id": "04924d8e",
   "metadata": {},
   "outputs": [],
   "source": [
    "#Задание 3\n",
    "#Напишите класс Designer, который учитывает количество международных премий. \n",
    "#Повышение на 1 грейд за каждые 7 баллов. Получение международной премии – это +2 балла. \n",
    "#Считайте, что при выходе на работу сотрудник уже имеет две премии и их количество не меняется со стажем.\n",
    "\n",
    "class Employee:\n",
    "    def __init__(self, name, seniority):\n",
    "        self.name = name\n",
    "        self.seniority = seniority\n",
    "        self.grade = 1\n",
    "    \n",
    "    def grade_up(self):\n",
    "        \"\"\" Повышает уровень сотрудника \"\"\"\n",
    "        self.grade += 1\n",
    "        \n",
    "    def publish_grade(self):\n",
    "        \"\"\" Публикует результат определения грейда \"\"\"\n",
    "        print(f'Сотрудник {self.name}, грейд {self.grade}')\n",
    "        \n",
    "class Designer(Employee):\n",
    "    def __init__(self, name, seniority, int_award = 0):\n",
    "        super().__init__(name, seniority)\n",
    "        #дополнительный параметр для дизайнеров \"количество межд.премий\"\n",
    "        self.int_award = int_award \n",
    "        #дополнительный параметр для дизайнеров \"доп. баллы за межд.премии\"\n",
    "        self.int_award_seniority_bonus = self.int_award * 2\n",
    "    \n",
    "    def conduct_certification(self):\n",
    "        \"\"\" Проводит аттестацию \"\"\"\n",
    "        #проводим аттестацию, все ОК\n",
    "        return True\n",
    "    \n",
    "    def is_it_time_to_increase_grade(self):\n",
    "        \"\"\" \n",
    "        Проверяет, неободимо ли повысить грейд дизайнера\n",
    "        Учитывает бонусные баллы за наличие мждународных премий.\n",
    "        \"\"\"\n",
    "        if self.conduct_certification():\n",
    "            self.seniority += 1\n",
    "        if (self.seniority + self.int_award_seniority_bonus) % 7 == 0:\n",
    "            self.grade_up()\n",
    "        return self.publish_grade()\n",
    "    "
   ]
  },
  {
   "cell_type": "code",
   "execution_count": 119,
   "id": "093534f3",
   "metadata": {},
   "outputs": [
    {
     "name": "stdout",
     "output_type": "stream",
     "text": [
      "Сотрудник Alex, грейд 1\n",
      "Сотрудник Alex, грейд 1\n",
      "Сотрудник Alex, грейд 2\n",
      "Сотрудник Alex, грейд 2\n",
      "Сотрудник Alex, грейд 2\n",
      "Сотрудник Alex, грейд 2\n",
      "Сотрудник Alex, грейд 2\n",
      "Сотрудник Alex, грейд 2\n",
      "Сотрудник Alex, грейд 2\n",
      "Сотрудник Alex, грейд 3\n",
      "Сотрудник Alex, грейд 3\n"
     ]
    }
   ],
   "source": [
    "designer = Designer('Alex', 0, 2)\n",
    "for i in range(1, 12):\n",
    "    designer.is_it_time_to_increase_grade()"
   ]
  },
  {
   "cell_type": "code",
   "execution_count": null,
   "id": "113171a7",
   "metadata": {},
   "outputs": [],
   "source": []
  }
 ],
 "metadata": {
  "kernelspec": {
   "display_name": "Python 3",
   "language": "python",
   "name": "python3"
  },
  "language_info": {
   "codemirror_mode": {
    "name": "ipython",
    "version": 3
   },
   "file_extension": ".py",
   "mimetype": "text/x-python",
   "name": "python",
   "nbconvert_exporter": "python",
   "pygments_lexer": "ipython3",
   "version": "3.8.8"
  }
 },
 "nbformat": 4,
 "nbformat_minor": 5
}
