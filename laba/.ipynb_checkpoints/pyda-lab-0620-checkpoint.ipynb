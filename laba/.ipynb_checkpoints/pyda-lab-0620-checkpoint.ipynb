{
 "cells": [
  {
   "cell_type": "markdown",
   "metadata": {},
   "source": [
    "## Лабораторная работа по курсу «Python для анализа данных»"
   ]
  },
  {
   "cell_type": "markdown",
   "metadata": {},
   "source": [
    "### При выполнении работы допускается использование любых внешних модулей и пакетов."
   ]
  },
  {
   "cell_type": "markdown",
   "metadata": {},
   "source": [
    "#### Задача 1"
   ]
  },
  {
   "cell_type": "markdown",
   "metadata": {},
   "source": [
    "Дана строка:"
   ]
  },
  {
   "cell_type": "code",
   "execution_count": 192,
   "metadata": {},
   "outputs": [],
   "source": [
    "string_01 = \"History is always written by the winners. When two cultures clash, the loser is obliterated, and the winner writes the history books - books which glorify their own cause and disparage the conquered foe. As Napoleon once said, 'What is history, but a fable agreed upon?'\""
   ]
  },
  {
   "cell_type": "markdown",
   "metadata": {},
   "source": [
    "1. Посчитайте, сколько в строке символов, исключая пробелы:"
   ]
  },
  {
   "cell_type": "code",
   "execution_count": 193,
   "metadata": {},
   "outputs": [],
   "source": [
    "#импортирую, что понадобилось\n",
    "from pprint import pprint\n",
    "import numpy as np\n",
    "\n",
    "\n"
   ]
  },
  {
   "cell_type": "code",
   "execution_count": 194,
   "metadata": {},
   "outputs": [
    {
     "data": {
      "text/plain": [
       "225"
      ]
     },
     "execution_count": 194,
     "metadata": {},
     "output_type": "execute_result"
    }
   ],
   "source": [
    "len(string_01.replace(' ',''))"
   ]
  },
  {
   "cell_type": "markdown",
   "metadata": {},
   "source": [
    "2. Посчитайте, сколько в строке слов."
   ]
  },
  {
   "cell_type": "code",
   "execution_count": 195,
   "metadata": {},
   "outputs": [
    {
     "name": "stdout",
     "output_type": "stream",
     "text": [
      "45\n"
     ]
    }
   ],
   "source": [
    "word_count = 0\n",
    "for word in string_01.split(' '):\n",
    "    if word.replace('.','').replace(',','').replace('?','').replace(\"'\",'').isalpha():\n",
    "        word_count += 1\n",
    "print(word_count)"
   ]
  },
  {
   "cell_type": "markdown",
   "metadata": {},
   "source": [
    "3. Напишите функцию, которая будет принимать в качестве аргумента букву и выводить все слова из строки, начинающиеся на эту букву (например, “w”)."
   ]
  },
  {
   "cell_type": "code",
   "execution_count": 197,
   "metadata": {},
   "outputs": [
    {
     "name": "stdout",
     "output_type": "stream",
     "text": [
      "Введите одну букву: w\n",
      "written\n",
      "winners\n",
      "winner\n",
      "writes\n",
      "which\n"
     ]
    },
    {
     "data": {
      "text/plain": [
       "5"
      ]
     },
     "execution_count": 197,
     "metadata": {},
     "output_type": "execute_result"
    }
   ],
   "source": [
    "def words_beginning_with_a_letter(letter, string):\n",
    "    \"\"\"\n",
    "    Принимает letter (символ), string (строка).\n",
    "    Находит и печатает все слова в string, начинающиеся с letter.\n",
    "    Возвращает количество найденных слов.\n",
    "    Ругается, если введено более одного символа или символ - не буква.\n",
    "    \"\"\"\n",
    "    word_count = 0\n",
    "    if letter.isalpha() and len(letter) == 1:\n",
    "        for word in string.split(' '):\n",
    "            word_cleaned = word.replace('.','').replace(',','').replace('?','').replace(\"'\",'')\n",
    "            if word.startswith(letter) and word_cleaned.isalpha():\n",
    "                print(word_cleaned)\n",
    "                word_count += 1\n",
    "        if not word_count:\n",
    "            print(f'Нет слов, начинающихся на \\\"{letter}\\\"')\n",
    "    else:\n",
    "        print('Вы ввели НЕ букву или более одного символа.')\n",
    "    return word_count\n",
    "\n",
    "words_beginning_with_a_letter(input('Введите одну букву: '), string_01)"
   ]
  },
  {
   "cell_type": "markdown",
   "metadata": {},
   "source": [
    "#### Задача 2"
   ]
  },
  {
   "cell_type": "markdown",
   "metadata": {},
   "source": [
    "Напишите код, который будет генерировать случайную последовательность из 6 цифр, одна из которых должна быть 3. Позиция цифры 3 должна\n",
    "определяться случайным образом. Результат должен быть строкой. Например: \"456309\" или \"330127\"."
   ]
  },
  {
   "cell_type": "code",
   "execution_count": 199,
   "metadata": {},
   "outputs": [
    {
     "name": "stdout",
     "output_type": "stream",
     "text": [
      "663078\n"
     ]
    }
   ],
   "source": [
    "#массив для чисел и текущая позиция в массиве\n",
    "rezult = []\n",
    "index = 0\n",
    "#генерю позицию для \"3\"\n",
    "index_for_3 = np.random.randint(0, 5)\n",
    "#генерю последовательность из 6 цифр, \"3\" игнорирую\n",
    "while index < 6:\n",
    "    digit = np.random.randint(0, 9)\n",
    "    if digit != 3:\n",
    "        rezult.append(digit)\n",
    "        index += 1\n",
    "#меняю цифру в позиции index_for_3 на \"3\"\n",
    "rezult[index_for_3] = 3\n",
    "#генерю строку из массива\n",
    "rezult_str = ''.join([str(element) for element in rezult])\n",
    "#печатаю результат на экране монитора\n",
    "print(rezult_str)"
   ]
  },
  {
   "cell_type": "markdown",
   "metadata": {},
   "source": [
    "#### Задача 3"
   ]
  },
  {
   "cell_type": "markdown",
   "metadata": {},
   "source": [
    "Дан список:"
   ]
  },
  {
   "cell_type": "code",
   "execution_count": 200,
   "metadata": {},
   "outputs": [],
   "source": [
    "list_01 = [1, 1, 2, 3, 5, 8, 13, 21, 34, 55, 89, 144, 233, 377, 610, 14, 46, 273, 22, 99, 15, 1000]"
   ]
  },
  {
   "cell_type": "markdown",
   "metadata": {},
   "source": [
    "Напишите алгоритм, который выводит число, равное сумме элементов списка, которые больше 10, но меньше 100, и которые больше 200, но меньше 500."
   ]
  },
  {
   "cell_type": "code",
   "execution_count": 201,
   "metadata": {},
   "outputs": [
    {
     "name": "stdout",
     "output_type": "stream",
     "text": [
      "Сумма элементов вар.1: 1291\n",
      "Сумма элементов вар.2: 1291\n"
     ]
    }
   ],
   "source": [
    "#вариант 1\n",
    "summa = 0\n",
    "for element in list_01:\n",
    "    if 10 < element < 100 or 200 < element < 500:\n",
    "        summa += element\n",
    "print(f'Сумма элементов вар.1: {summa}')\n",
    "\n",
    "#вариант 2\n",
    "print(f'Сумма элементов вар.2: {sum([element for element in list_01 if 10 < element < 100 or 200 < element < 500])}')"
   ]
  },
  {
   "cell_type": "markdown",
   "metadata": {},
   "source": [
    "#### Задача 4"
   ]
  },
  {
   "cell_type": "markdown",
   "metadata": {},
   "source": [
    "Данные студентов представлены в виде списка списков:"
   ]
  },
  {
   "cell_type": "code",
   "execution_count": 202,
   "metadata": {},
   "outputs": [],
   "source": [
    "students = [\n",
    "[\"0001\", \"Антонов\", \"Антон\", \"Игоревич\", \"20.08.2009\",\"БСТ161\"],\n",
    "[\"1102\", \"Богов\", \"Артем\", \"Игоревич\", \"25.01.2010\",\"БСТ162\"],\n",
    "[\"0333\", \"Глаголева\", \"Анастасия\", \"Николаевна\", \"11.07.2009\", \"БСТ163\"],\n",
    "[\"4004\", \"Степанова\", \"Наталья\", \"Александровна\", \"13.02.2008\", \"БСТ161\"],\n",
    "[\"0045\", \"Боков\", \"Игорь\", \"Харитонович\", \"02.06.2009\", \"БСТ161\"],\n",
    "[\"0096\", \"Васильков\", \"Валентин\", \"Сергеевич\", \"20.03.2009\", \"БСТ164\"],\n",
    "[\"0607\", \"Сиропова\", \"Виолетта\", \"Эдуардовна\", \"28.05.2010\", \"БСТ162\"]\n",
    "    ]"
   ]
  },
  {
   "cell_type": "markdown",
   "metadata": {},
   "source": [
    "1. Преобразуйте данные таким образом, чтобы они были представлены в виде словаря, в котором ключами являются номера студентов, а значениями — список из других данных о студентах."
   ]
  },
  {
   "cell_type": "code",
   "execution_count": 203,
   "metadata": {},
   "outputs": [
    {
     "name": "stdout",
     "output_type": "stream",
     "text": [
      "{'0001': ['Антонов', 'Антон', 'Игоревич', '20.08.2009', 'БСТ161'],\n",
      " '0045': ['Боков', 'Игорь', 'Харитонович', '02.06.2009', 'БСТ161'],\n",
      " '0096': ['Васильков', 'Валентин', 'Сергеевич', '20.03.2009', 'БСТ164'],\n",
      " '0333': ['Глаголева', 'Анастасия', 'Николаевна', '11.07.2009', 'БСТ163'],\n",
      " '0607': ['Сиропова', 'Виолетта', 'Эдуардовна', '28.05.2010', 'БСТ162'],\n",
      " '1102': ['Богов', 'Артем', 'Игоревич', '25.01.2010', 'БСТ162'],\n",
      " '4004': ['Степанова', 'Наталья', 'Александровна', '13.02.2008', 'БСТ161']}\n"
     ]
    }
   ],
   "source": [
    "#словарь\n",
    "dict_ = {}\n",
    "#формирую словарь\n",
    "for element in students:\n",
    "    new_list = element.copy()\n",
    "    new_list.remove(element[0])\n",
    "    dict_[element[0]] = new_list\n",
    "#печатаю результат на экране монитора\n",
    "pprint(dict_)"
   ]
  },
  {
   "cell_type": "markdown",
   "metadata": {},
   "source": [
    "2. Напишите функцию, которая принимает в качестве аргумента номер студента и новый номер группы и позволяет изменить номер группы этого студента на новый внутри созданного словаря."
   ]
  },
  {
   "cell_type": "code",
   "execution_count": 204,
   "metadata": {},
   "outputs": [
    {
     "name": "stdout",
     "output_type": "stream",
     "text": [
      "Введите номер студента: 0045\n",
      "Введите новый номер группы: БСТ162\n",
      "{'0001': ['Антонов', 'Антон', 'Игоревич', '20.08.2009', 'БСТ161'],\n",
      " '0045': ['Боков', 'Игорь', 'Харитонович', '02.06.2009', 'БСТ162'],\n",
      " '0096': ['Васильков', 'Валентин', 'Сергеевич', '20.03.2009', 'БСТ164'],\n",
      " '0333': ['Глаголева', 'Анастасия', 'Николаевна', '11.07.2009', 'БСТ163'],\n",
      " '0607': ['Сиропова', 'Виолетта', 'Эдуардовна', '28.05.2010', 'БСТ162'],\n",
      " '1102': ['Богов', 'Артем', 'Игоревич', '25.01.2010', 'БСТ162'],\n",
      " '4004': ['Степанова', 'Наталья', 'Александровна', '13.02.2008', 'БСТ161']}\n"
     ]
    }
   ],
   "source": [
    "#функция\n",
    "def group_id_change(student_id, new_group_id):\n",
    "    \"\"\"\n",
    "    Принимает student_id и new_group_id (все - строки).\n",
    "    Находит студента по student_id и заменяет его номер группы на new_group_id.\n",
    "    Возвращает измененный или неизмененный словарь dict_.\n",
    "    Ругается, если не находит студента с номером student_id.\n",
    "    \"\"\"  \n",
    "    if dict_.get(student_id, 0) == 0:\n",
    "        print('Нет студента с таким номером.')\n",
    "    else:\n",
    "        dict_.get(student_id)[-1] = new_group_id\n",
    "    return dict_\n",
    "#печатаю содержимое словаря на экране монитора не зависимо от успеха выполнения функции\n",
    "pprint(group_id_change(input('Введите номер студента: '), input('Введите новый номер группы: ')))"
   ]
  },
  {
   "cell_type": "markdown",
   "metadata": {},
   "source": [
    "3. Напишите функцию, которая принимает номер группы и выводит список (фамилии, имена, отчества) всех студентов этой группы. Необходимо обращаться к словарю."
   ]
  },
  {
   "cell_type": "code",
   "execution_count": 205,
   "metadata": {},
   "outputs": [
    {
     "name": "stdout",
     "output_type": "stream",
     "text": [
      "Введите номер группы: БСТ162\n",
      "Список студентов группы \"БСТ162\":\n",
      "  Богов Артем Игоревич\n",
      "  Боков Игорь Харитонович\n",
      "  Сиропова Виолетта Эдуардовна\n",
      "Студентов группы \"БСТ162\" найдено: 3\n"
     ]
    }
   ],
   "source": [
    "#функция\n",
    "def group_list_print(group_id):\n",
    "    \"\"\"\n",
    "    Принимает group_id (строка).\n",
    "    Находит всех студентов по номеру группы group_id и печатает их список.\n",
    "    Ругается, если не находит номер группы group_id.\n",
    "    Возвращает количество студентов в группе group_id\n",
    "    \"\"\"  \n",
    "    print(f'Список студентов группы \\\"{group_id}\\\":')\n",
    "    students_count = 0\n",
    "    for key in dict_.values():\n",
    "        if key[-1] == group_id:\n",
    "            print(f'  {\" \".join(key[:3])}')\n",
    "            students_count += 1\n",
    "    print(f'Студентов группы \\\"{group_id}\\\" найдено: {students_count}')\n",
    "    return students_count\n",
    "#вызов функции\n",
    "ret = group_list_print(input('Введите номер группы: '))"
   ]
  },
  {
   "cell_type": "markdown",
   "metadata": {},
   "source": [
    "#### Задача 5"
   ]
  },
  {
   "cell_type": "markdown",
   "metadata": {},
   "source": [
    "Дана матрица:"
   ]
  },
  {
   "cell_type": "code",
   "execution_count": 206,
   "metadata": {},
   "outputs": [],
   "source": [
    "matrix = [ \n",
    "    [0,1,2,4,8], \n",
    "    [6,2,2,1,9], \n",
    "    [3,3,3,3,3], \n",
    "    [4,6,7,1,2], \n",
    "    [5,7,3,4,0] \n",
    "]"
   ]
  },
  {
   "cell_type": "markdown",
   "metadata": {},
   "source": [
    "1. Выведите результат сложения всех элементов матрицы."
   ]
  },
  {
   "cell_type": "code",
   "execution_count": 207,
   "metadata": {},
   "outputs": [
    {
     "name": "stdout",
     "output_type": "stream",
     "text": [
      "Сумма элементов матрицы вар.1: 89\n",
      "Сумма элементов матрицы вар.2: 89\n"
     ]
    }
   ],
   "source": [
    "#вариант 1\n",
    "summ = 0\n",
    "for element in matrix:\n",
    "    summ += sum(element)\n",
    "print(f'Сумма элементов матрицы вар.1: {summ}')\n",
    "\n",
    "#вариант 2\n",
    "print(f'Сумма элементов матрицы вар.2: {np.sum(matrix)}')"
   ]
  },
  {
   "cell_type": "markdown",
   "metadata": {},
   "source": [
    "2. Напишите алгоритм вычисления максимума из сумм элементов каждого столбца."
   ]
  },
  {
   "cell_type": "code",
   "execution_count": 208,
   "metadata": {},
   "outputs": [
    {
     "name": "stdout",
     "output_type": "stream",
     "text": [
      "Максимум из сумм элементов каждого столбца вар.1: 22\n",
      "Максимум из сумм элементов каждого столбца вар.2: 22\n"
     ]
    }
   ],
   "source": [
    "#вариант 1\n",
    "columns_local_summ = []\n",
    "for column in range(0, len(matrix[0])):\n",
    "    columns_local_summ.append(0)\n",
    "    for row in matrix:\n",
    "        columns_local_summ[column] += row[column]\n",
    "print(f'Максимум из сумм элементов каждого столбца вар.1: {max(columns_local_summ)}')\n",
    "\n",
    "#вариант 2\n",
    "print(f'Максимум из сумм элементов каждого столбца вар.2: {np.amax(np.sum(matrix, axis = 0))}')"
   ]
  },
  {
   "cell_type": "code",
   "execution_count": null,
   "metadata": {},
   "outputs": [],
   "source": []
  }
 ],
 "metadata": {
  "kernelspec": {
   "display_name": "Python 3",
   "language": "python",
   "name": "python3"
  },
  "language_info": {
   "codemirror_mode": {
    "name": "ipython",
    "version": 3
   },
   "file_extension": ".py",
   "mimetype": "text/x-python",
   "name": "python",
   "nbconvert_exporter": "python",
   "pygments_lexer": "ipython3",
   "version": "3.8.8"
  }
 },
 "nbformat": 4,
 "nbformat_minor": 2
}
