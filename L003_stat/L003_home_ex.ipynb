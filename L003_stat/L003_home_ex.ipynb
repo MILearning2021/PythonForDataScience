{
 "cells": [
  {
   "cell_type": "code",
   "execution_count": null,
   "id": "0c1b55a1",
   "metadata": {},
   "outputs": [],
   "source": [
    "\"\"\"\n",
    "Смоделировать игру против лотерейного автомата типа “777”. Игрок платит 1 руб., после чего выпадает случайное \n",
    "целое число, равномерно распределенное от 0 до 999. При некоторых значениях числа игрок получает выигрыш.\n",
    "\n",
    "Выгодна ли игра игроку?\n",
    "\n",
    "Сколько в среднем приобретает\n",
    "или теряет игрок за одну игру?\n",
    "\n",
    "777: 200 руб.\n",
    "999: 100 руб.\n",
    "555: 50 руб.\n",
    "333: 15 руб.\n",
    "111: 10 руб.\n",
    "*77: 5 руб.\n",
    "**7: 3 руб.\n",
    "*00: 2 руб.\n",
    "**0: 1 руб.\n",
    "\n",
    "* – любая цифра\n",
    "\n",
    "Дополнительное задание повышенной сложности. Теоретически рассчитать средний выигрыш (проигрыш) и сравнить \n",
    "с результатами моделирования.\n",
    "\"\"\""
   ]
  },
  {
   "cell_type": "code",
   "execution_count": 9,
   "id": "c9d82752",
   "metadata": {},
   "outputs": [
    {
     "data": {
      "text/plain": [
       "0.2052052052052052"
      ]
     },
     "execution_count": 9,
     "metadata": {},
     "output_type": "execute_result"
    }
   ],
   "source": [
    "#вероятность получения выиогрыша от 1 до 200 руб.\n",
    "1/999 + 1/999 + 1/999 + 1/999 + 1/999 + 9/999 + 91/999 + 10/999 + 90/999"
   ]
  },
  {
   "cell_type": "code",
   "execution_count": 10,
   "id": "2828f009",
   "metadata": {},
   "outputs": [
    {
     "data": {
      "text/plain": [
       "0.8038038038038038"
      ]
     },
     "execution_count": 10,
     "metadata": {},
     "output_type": "execute_result"
    }
   ],
   "source": [
    "#среднее значение выигрыша\n",
    "200/999+100/999+50/999+15/999+10/999+45/999+273/999+20/999+90/999+0*(1-(1/999 + 1/999 + 1/999 + 1/999 + 1/999 + 9/999 + 91/999 + 10/999 + 90/999))"
   ]
  },
  {
   "cell_type": "code",
   "execution_count": null,
   "id": "98e71eb1",
   "metadata": {},
   "outputs": [],
   "source": [
    "#игра не выгодна для игрока, тк в среднем он теряет 19,7 копейки за игру"
   ]
  },
  {
   "cell_type": "code",
   "execution_count": 24,
   "id": "7394563d",
   "metadata": {},
   "outputs": [
    {
     "name": "stdout",
     "output_type": "stream",
     "text": [
      "удача: 2031327, попыток: 10000000, вероятность эмпирическая: 0.2031327 и теоретическая: 0.2052\n",
      "потрачено: 10000000, заработано: 7216654, средний выигрыш: -0.28 и теоретический: 0.197\n",
      "CPU times: user 1min 11s, sys: 188 ms, total: 1min 11s\n",
      "Wall time: 1min 11s\n"
     ]
    }
   ],
   "source": [
    "%%time\n",
    "#модель\n",
    "import numpy as np\n",
    "\n",
    "trials = 1000000    # Количество попыток\n",
    "successes = 0    # Количество успехов\n",
    "#выигрыш\n",
    "gain = 0\n",
    "#проигрыш\n",
    "pain = 0\n",
    "\n",
    "for i in range(trials):\n",
    "    random_score = np.random.randint(1, 1000)\n",
    "    pain += 1\n",
    "    if random_score == 777:\n",
    "        successes += 1\n",
    "        gain += 200\n",
    "    elif random_score == 999:\n",
    "        successes += 1\n",
    "        gain += 100\n",
    "    elif random_score == 555:\n",
    "        successes += 1\n",
    "        gain += 50\n",
    "    elif random_score == 333:\n",
    "        successes += 1\n",
    "        gain += 15\n",
    "    elif random_score == 111:\n",
    "        successes += 1\n",
    "        gain += 10\n",
    "    elif random_score in [77, 177, 277, 377, 477, 577, 677, 877, 977]:\n",
    "        successes += 1\n",
    "        gain += 5\n",
    "    elif random_score in [0, 100, 200, 300, 400, 500, 600, 700, 800, 900]:\n",
    "        successes += 1\n",
    "        gain += 3\n",
    "    elif (random_score - 7) % 10 == 0:\n",
    "        successes += 1\n",
    "        gain += 2\n",
    "    elif random_score % 10 == 0:\n",
    "        successes += 1\n",
    "        gain += 1\n",
    "             \n",
    "#Вероятность из моделирования\n",
    "p_monte_carlo = successes / trials    \n",
    "\n",
    "# Теоретическая вероятность\n",
    "p = 0.2052                             \n",
    "\n",
    "print(f'удача: {successes}, попыток: {trials}, вероятность эмпирическая: {p_monte_carlo} и теоретическая: {p}')\n",
    "print(f'потрачено: {pain}, заработано: {gain}, средний выигрыш: {round((gain-pain)/trials, 2)} и теоретический: 0.197')\n"
   ]
  },
  {
   "cell_type": "code",
   "execution_count": null,
   "id": "4bac3c15",
   "metadata": {},
   "outputs": [],
   "source": []
  },
  {
   "cell_type": "code",
   "execution_count": null,
   "id": "ed655312",
   "metadata": {},
   "outputs": [],
   "source": []
  },
  {
   "cell_type": "code",
   "execution_count": null,
   "id": "78693779",
   "metadata": {},
   "outputs": [],
   "source": []
  },
  {
   "cell_type": "code",
   "execution_count": null,
   "id": "d009bdf6",
   "metadata": {},
   "outputs": [],
   "source": []
  }
 ],
 "metadata": {
  "kernelspec": {
   "display_name": "Python 3",
   "language": "python",
   "name": "python3"
  },
  "language_info": {
   "codemirror_mode": {
    "name": "ipython",
    "version": 3
   },
   "file_extension": ".py",
   "mimetype": "text/x-python",
   "name": "python",
   "nbconvert_exporter": "python",
   "pygments_lexer": "ipython3",
   "version": "3.8.8"
  }
 },
 "nbformat": 4,
 "nbformat_minor": 5
}
