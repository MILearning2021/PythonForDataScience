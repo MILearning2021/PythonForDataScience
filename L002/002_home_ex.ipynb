{
 "cells": [
  {
   "cell_type": "code",
   "execution_count": 30,
   "metadata": {},
   "outputs": [
    {
     "data": {
      "text/plain": [
       "{15, 35, 54, 98, 119, 213}"
      ]
     },
     "execution_count": 30,
     "metadata": {},
     "output_type": "execute_result"
    }
   ],
   "source": [
    "#Задание 1\n",
    "#Дана переменная, в которой хранится словарь, содержащий гео-метки для каждого пользователя (пример структуры данных \n",
    "#приведен ниже). Вам необходимо написать программу, которая выведет на экран множество уникальных гео-меток \n",
    "#всех пользователей.\n",
    "#Пример работы программы:\n",
    "#Результат:  {98, 35, 15, 213, 54, 119}\n",
    "\n",
    "ids = {'user1': [213, 213, 213, 15, 213], \n",
    "       'user2': [54, 54, 119, 119, 119], \n",
    "       'user3': [213, 98, 98, 35]}\n",
    "\n",
    "set_ids = set()\n",
    "for key in ids:\n",
    "    set_ids.update(ids.get(key))\n",
    "set_ids"
   ]
  },
  {
   "cell_type": "code",
   "execution_count": 66,
   "metadata": {},
   "outputs": [
    {
     "name": "stdout",
     "output_type": "stream",
     "text": [
      "Поисковых запросов, содержащих 2 слов(а): 42.86%\n",
      "Поисковых запросов, содержащих 3 слов(а): 57.14%\n"
     ]
    }
   ],
   "source": [
    "#Задание 2\n",
    "#Дана переменная, в которой хранится список поисковых запросов пользователя (пример структуры данных приведен ниже). \n",
    "#Вам необходимо написать программу, которая выведет на экран распределение количества слов в запросах \n",
    "#в требуемом виде.\n",
    "#Пример работы программы:\n",
    "#Результат:\n",
    "#Поисковых запросов, содержащих 2 слов(а): 42.86%\n",
    "#Поисковых запросов, содержащих 3 слов(а): 57.14%\n",
    "\n",
    "queries = [\n",
    "    'смотреть сериалы онлайн',\n",
    "    'новости спорта',\n",
    "    'афиша кино',\n",
    "    'курс доллара',\n",
    "    'сериалы этим летом',\n",
    "    'курс по питону',\n",
    "    'сериалы про спорт',\n",
    "]\n",
    "\n",
    "[word_count.append(query.count(' ') + 1) for query in queries if len(query.replace(' ', '')) > 0]\n",
    "unic_word_count = set(word_count)\n",
    "for item in unic_word_count:\n",
    "    print(f'Поисковых запросов, содержащих {item} слов(а): {round(100 * (word_count.count(item) / len(word_count)), 2)}%')"
   ]
  },
  {
   "cell_type": "code",
   "execution_count": 10,
   "metadata": {},
   "outputs": [
    {
     "name": "stdout",
     "output_type": "stream",
     "text": [
      "{'vk': {'revenue': 103, 'cost': 98, 'ROI': 5.1}, 'yandex': {'revenue': 179, 'cost': 153, 'ROI': 16.99}, 'facebook': {'revenue': 103, 'cost': 110, 'ROI': -6.36}, 'adwords': {'revenue': 35, 'cost': 34, 'ROI': 2.94}, 'twitter': {'revenue': 11, 'cost': 24, 'ROI': -54.17}} \n",
      "\n",
      "{'adwords': {'ROI': 2.94, 'cost': 34, 'revenue': 35},\n",
      " 'facebook': {'ROI': -6.36, 'cost': 110, 'revenue': 103},\n",
      " 'twitter': {'ROI': -54.17, 'cost': 24, 'revenue': 11},\n",
      " 'vk': {'ROI': 5.1, 'cost': 98, 'revenue': 103},\n",
      " 'yandex': {'ROI': 16.99, 'cost': 153, 'revenue': 179}}\n"
     ]
    }
   ],
   "source": [
    "#Задание 3\n",
    "#Дана переменная, в которой хранится информация о затратах и доходе рекламных кампаний по различным источникам. \n",
    "#Необходимо дополнить исходную структуру показателем ROI, который рассчитаем по формуле: (revenue / cost - 1) * 100\n",
    "#Пример работы программы:\n",
    "#Результат:\n",
    "#{'adwords': {'cost': 34, 'revenue': 35, 'ROI': 2.94},\n",
    "# 'facebook': {'cost': 110, 'revenue': 103, 'ROI': -6.36},\n",
    "# 'twitter': {'cost': 24, 'revenue': 11, 'ROI': -54.17},\n",
    "# 'vk': {'cost': 98, 'revenue': 103, 'ROI': 5.1},\n",
    "# 'yandex': {'cost': 153, 'revenue': 179, 'ROI': 16.99}}\n",
    "\n",
    "from pprint import pprint\n",
    "\n",
    "results = {\n",
    "    'vk': {'revenue': 103, 'cost': 98},\n",
    "    'yandex': {'revenue': 179, 'cost': 153},\n",
    "    'facebook': {'revenue': 103, 'cost': 110},\n",
    "    'adwords': {'revenue': 35, 'cost': 34},\n",
    "    'twitter': {'revenue': 11, 'cost': 24},\n",
    "}\n",
    "\n",
    "for social_net in results:\n",
    "    results[social_net]['ROI'] = round(100 * (results[social_net]['revenue'] / results[social_net]['cost'] - 1), 2)\n",
    "\n",
    "print(results, '\\n')\n",
    "pprint(results)\n",
    "\n",
    "#social_net_ordered = list(results.keys())\n",
    "#social_net_ordered.sort()\n",
    "\n",
    "#res_1 = {}\n",
    "#for item in social_net_ordered:\n",
    "#    res_1[item] = {'cost' : results[item]['cost'], 'revenue' : results[item]['revenue'], 'ROI' : results[item]['ROI']}\n",
    "\n",
    "#pprint(res_1)\n",
    "#pprint(results)"
   ]
  },
  {
   "cell_type": "code",
   "execution_count": 137,
   "metadata": {},
   "outputs": [
    {
     "name": "stdout",
     "output_type": "stream",
     "text": [
      "Максимальный объем продаж на рекламном канале: vk\n"
     ]
    }
   ],
   "source": [
    "#Задание 4\n",
    "#Дана переменная, в которой хранится статистика рекламных каналов по объемам продаж (пример структуры данных \n",
    "#приведен ниже). Напишите программу, которая возвращает название канала с максимальным объемом продаж.\n",
    "#Пример работы программы:\n",
    "#stats = {'facebook': 55, 'yandex': 115, 'vk': 120, 'google': 99, 'email': 42, 'ok': 98}\n",
    "#Результат:  Максимальный объем продаж на рекламном канале: vk\n",
    "\n",
    "stats = {'facebook': 55, 'yandex': 115, 'vk': 120, 'google': 99, 'email': 42, 'ok': 98}\n",
    "\n",
    "sales_ordered = list(stats.values())\n",
    "sales_ordered.sort(reverse = True)\n",
    "\n",
    "for item in stats:\n",
    "    if stats[item] == sales_ordered[0]:\n",
    "        print(f'Максимальный объем продаж на рекламном канале: {item}')"
   ]
  },
  {
   "cell_type": "code",
   "execution_count": 151,
   "metadata": {},
   "outputs": [
    {
     "name": "stdout",
     "output_type": "stream",
     "text": [
      "{'a': {'b': {'c': {'d': {'e': 'f'}}}}}\n"
     ]
    }
   ],
   "source": [
    "#Задание 5 (необязательно)\n",
    "#Дан список произвольной длины. Необходимо написать код, который на основе исходного списка составит словарь \n",
    "#такого уровня вложенности, какова длина исходного списка.\n",
    "#Примеры работы программы:\n",
    "#my_list = ['2018-01-01', 'yandex', 'cpc', 100]\n",
    "#Результат:  {'2018-01-01': {'yandex': {'cpc': 100}}}\n",
    "#my_list = ['a', 'b', 'c', 'd', 'e', 'f']\n",
    "#Результат:  {'a': {'b': {'c': {'d': {'e': 'f'}}}}}\n",
    "\n",
    "#my_list = ['2018-01-01', 'yandex', 'cpc', 100]\n",
    "my_list = ['a', 'b', 'c', 'd', 'e', 'f']\n",
    "\n",
    "res_2 = {}\n",
    "if len(my_list) < 2:\n",
    "    print('Короткий список.')\n",
    "else:\n",
    "    res_2 = {my_list[len(my_list)-2] : my_list[len(my_list)-1]}\n",
    "    for i in range(3, len(my_list) + 1):\n",
    "        res_2 = {my_list[len(my_list) - i] : res_2}\n",
    "\n",
    "print(res_2)"
   ]
  },
  {
   "cell_type": "code",
   "execution_count": 1,
   "metadata": {},
   "outputs": [
    {
     "name": "stdout",
     "output_type": "stream",
     "text": [
      "Введите количество порций: \n",
      "7\n",
      "сыр: 490 гр\n",
      "томаты: 14 шт\n",
      "огурцы: 140 гр\n",
      "маслины: 70 гр\n",
      "оливковое масло: 140 мл\n",
      "салат: 70 гр\n",
      "перец: 140 гр\n",
      "колбаса: 210 гр\n",
      "бекон: 210 гр\n",
      "оливки: 70 гр\n",
      "томаты: 140 гр\n",
      "тесто: 700 гр\n",
      "лимон: 7 шт\n",
      "вода: 1400 мл\n",
      "сахар: 70 гр\n",
      "лайм: 140 гр\n"
     ]
    }
   ],
   "source": [
    "#Задание 6 (необязательно)\n",
    "#Дана книга рецептов с информацией о том, сколько ингредиентов нужно для приготовления блюда в расчете на одну \n",
    "#порцию (пример данных представлен ниже).\n",
    "#Напишите программу, которая будет запрашивать у пользователя количество порций для приготовления этих блюд и \n",
    "#отображать информацию о суммарном количестве требуемых ингредиентов в указанном виде.\n",
    "#Внимание! Одинаковые ингридиенты с разными размерностями нужно считать раздельно!\n",
    "\n",
    "cook_book = {\n",
    "  'салат': [\n",
    "     {'ingridient_name': 'сыр', 'quantity': 50, 'measure': 'гр'},\n",
    "     {'ingridient_name': 'томаты', 'quantity': 2, 'measure': 'шт'},\n",
    "     {'ingridient_name': 'огурцы', 'quantity': 20, 'measure': 'гр'},\n",
    "     {'ingridient_name': 'маслины', 'quantity': 10, 'measure': 'гр'},\n",
    "     {'ingridient_name': 'оливковое масло', 'quantity': 20, 'measure': 'мл'},\n",
    "     {'ingridient_name': 'салат', 'quantity': 10, 'measure': 'гр'},\n",
    "     {'ingridient_name': 'перец', 'quantity': 20, 'measure': 'гр'}\n",
    "    ],\n",
    "  'пицца': [\n",
    "     {'ingridient_name': 'сыр', 'quantity': 20, 'measure': 'гр'},\n",
    "     {'ingridient_name': 'колбаса', 'quantity': 30, 'measure': 'гр'},\n",
    "     {'ingridient_name': 'бекон', 'quantity': 30, 'measure': 'гр'},\n",
    "     {'ingridient_name': 'оливки', 'quantity': 10, 'measure': 'гр'},\n",
    "     {'ingridient_name': 'томаты', 'quantity': 20, 'measure': 'гр'},\n",
    "     {'ingridient_name': 'тесто', 'quantity': 100, 'measure': 'гр'},   \n",
    "    ],\n",
    "  'лимонад': [\n",
    "     {'ingridient_name': 'лимон', 'quantity': 1, 'measure': 'шт'},\n",
    "     {'ingridient_name': 'вода', 'quantity': 200, 'measure': 'мл'},\n",
    "     {'ingridient_name': 'сахар', 'quantity': 10, 'measure': 'гр'},\n",
    "     {'ingridient_name': 'лайм', 'quantity': 20, 'measure': 'гр'},    \n",
    "    ]\n",
    "}\n",
    "\n",
    "portion_count = input('Введите количество порций: \\n')\n",
    "\n",
    "ingridients_list = []\n",
    "\n",
    "for key in cook_book:\n",
    "    for ingr in cook_book.get(key):\n",
    "        ingridients_list.append([ingr['ingridient_name'], ingr['quantity'], ingr['measure']])\n",
    "\n",
    "for ingr_1 in ingridients_list:\n",
    "    for ingr_2 in ingridients_list:\n",
    "        if ingr_2 != ingr_1:\n",
    "            if (ingr_2[0] == ingr_1[0]) and (ingr_2[2] == ingr_1[2]):\n",
    "                ingr_1[1] += ingr_2[1]\n",
    "                ingridients_list.remove(ingr_2)\n",
    "    print(f'{ingr_1[0]}: {ingr_1[1] * int(portion_count)} {ingr_1[2]}')"
   ]
  },
  {
   "cell_type": "code",
   "execution_count": null,
   "metadata": {},
   "outputs": [],
   "source": []
  }
 ],
 "metadata": {
  "kernelspec": {
   "display_name": "Python 3",
   "language": "python",
   "name": "python3"
  },
  "language_info": {
   "codemirror_mode": {
    "name": "ipython",
    "version": 3
   },
   "file_extension": ".py",
   "mimetype": "text/x-python",
   "name": "python",
   "nbconvert_exporter": "python",
   "pygments_lexer": "ipython3",
   "version": "3.8.8"
  }
 },
 "nbformat": 4,
 "nbformat_minor": 4
}
