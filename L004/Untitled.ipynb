{
 "cells": [
  {
   "cell_type": "code",
   "execution_count": 14,
   "id": "ce37e1c1",
   "metadata": {},
   "outputs": [
    {
     "name": "stdout",
     "output_type": "stream",
     "text": [
      "{'category': 'category', 'user_id': 'user_id'}\n",
      "{'category': 'Продукты', 'user_id': '1840e0b9d4'}\n",
      "{'category': 'Электроника', 'user_id': '4e4f90fcfb'}\n",
      "{'category': 'Электроника', 'user_id': 'afea8d72fc'}\n",
      "{'category': 'Бытовая техника', 'user_id': '373a6055fe'}\n",
      "{'category': 'Электроника', 'user_id': '9b2ab046f3'}\n",
      "{'category': 'Электроника', 'user_id': '9f39d307c3'}\n",
      "{'category': 'Продукты', 'user_id': '44edeffc91'}\n",
      "{'category': 'Продукты', 'user_id': '704474fa2d'}\n",
      "{'category': 'Бытовая техника', 'user_id': '1de31be403'}\n",
      "{'category': 'Продукты', 'user_id': 'b71f36a5e4'}\n"
     ]
    }
   ],
   "source": [
    "import os\n",
    "import json\n",
    "from pprint import pprint\n",
    "\n",
    "\n",
    "i=0\n",
    "dic={}\n",
    "dict_={}\n",
    "with open(os.getcwd() + \"/purchase_log.txt\", \"r\") as f:\n",
    "    for line in f:\n",
    "        #line_list = list(json.loads(line).values())\n",
    "        #dict_[line_list[0]] = line_list[1]\n",
    "        line = line.strip()\n",
    "        dict_ = json.loads(line)\n",
    "        pprint(dict_)\n",
    "        i += 1\n",
    "        if i > 10: break\n",
    "    \n",
    "    \n",
    "    \"\"\"\n",
    "    for x in dict_.items():\n",
    "        print(x)\n",
    "        #key = dict_['user_id']\n",
    "        #value = dict_['category']\n",
    "        #dic = {key : value}\n",
    "        i += 1\n",
    "        if i > 10: break\n",
    "\n",
    "#print(dic)\n",
    "\"\"\""
   ]
  },
  {
   "cell_type": "code",
   "execution_count": null,
   "id": "bd566b04",
   "metadata": {},
   "outputs": [],
   "source": []
  }
 ],
 "metadata": {
  "kernelspec": {
   "display_name": "Python 3",
   "language": "python",
   "name": "python3"
  },
  "language_info": {
   "codemirror_mode": {
    "name": "ipython",
    "version": 3
   },
   "file_extension": ".py",
   "mimetype": "text/x-python",
   "name": "python",
   "nbconvert_exporter": "python",
   "pygments_lexer": "ipython3",
   "version": "3.8.8"
  }
 },
 "nbformat": 4,
 "nbformat_minor": 5
}
