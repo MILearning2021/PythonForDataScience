{
 "cells": [
  {
   "cell_type": "markdown",
   "metadata": {},
   "source": [
    "# Домашнее задание к лекции \"Базовые понятия статистики\""
   ]
  },
  {
   "cell_type": "markdown",
   "metadata": {},
   "source": [
    "## Обязательная часть\n",
    "\n",
    "Будем осуществлять работу с непростым [набором данных](https://raw.githubusercontent.com/obulygin/pyda_homeworks/master/statistics_basics/horse_data.csv) о состоянии здоровья лошадей, испытывающих кишечные колики. \n",
    "\n",
    "### Задание 1. Базовое изучение\n",
    "\n",
    "Изучить представленный набор данных на основе [описания его столбцов](https://raw.githubusercontent.com/obulygin/pyda_homeworks/master/statistics_basics/horse_data.names) и выбрать 8 столбцов для дальнейшего изучения (среди них должны быть как числовые, так и категориальные). Провести расчет базовых метрик для них, кратко описать результаты.\n",
    "\n",
    "### Задание 2. Работа с выбросами\n",
    "\n",
    "В выбранных числовых столбцах найти выбросы, выдвинуть гипотезы об их причинах и проинтерпретировать результаты. Принять и обосновать решение о дальнейшей работе с ними.\n",
    "\n",
    "### Задание 3. Работа с пропусками\n",
    "\n",
    "Рассчитать количество выбросов для всех выбранных столбцов. Принять и обосновать решение о методе работы с пропусками по каждому столбцу, сформировать датафрейм, в котором пропуски будут отсутствовать."
   ]
  },
  {
   "cell_type": "code",
   "execution_count": 1,
   "metadata": {},
   "outputs": [],
   "source": [
    "import numpy as np\n",
    "import pandas as pd\n",
    "import seaborn as sns\n",
    "import matplotlib.pyplot as plt\n",
    "import random as rnd"
   ]
  },
  {
   "cell_type": "code",
   "execution_count": 2,
   "metadata": {},
   "outputs": [],
   "source": [
    "#Задание №1\n",
    "\n",
    "#names = ['surgery', 'age', 'hospital number', 'rectal temperature', 'pulse', 'respiratory rate', \n",
    "#         'temperature of extremities', 'peripheral pulse', 'mucous membranes', 'capillary refill time', \n",
    "#         'pain', 'peristalsis', 'abdominal distension', 'nasogastric tube', 'nasogastric reflux', \n",
    "#         'nasogastric reflux PH', 'rectal examination - feces', 'abdomen', 'packed cell volume', \n",
    "#         'total protein', 'abdominocentesis appearance', 'abdomcentesis total protein', 'outcome', \n",
    "#         'surgical lesion', 'type of lesion 25', 'type of lesion 26', 'type of lesion 27', 'cp_data']\n",
    "\n",
    "#выбрал характеристики для анализа\n",
    "col_list = [3,4,8,12,16,18,19,22]\n",
    "names = ['rectal temperature', 'pulse',  'mucous membranes', 'abdominal distension', \n",
    "         'rectal examination - feces', 'packed cell volume', 'total protein', 'outcom']\n",
    "\n",
    "horse = pd.read_csv('horse_data.csv', usecols = col_list, names = names, na_values = '?')"
   ]
  },
  {
   "cell_type": "code",
   "execution_count": 3,
   "metadata": {},
   "outputs": [
    {
     "name": "stdout",
     "output_type": "stream",
     "text": [
      "<class 'pandas.core.frame.DataFrame'>\n",
      "RangeIndex: 300 entries, 0 to 299\n",
      "Data columns (total 8 columns):\n",
      " #   Column                      Non-Null Count  Dtype  \n",
      "---  ------                      --------------  -----  \n",
      " 0   rectal temperature          240 non-null    float64\n",
      " 1   pulse                       276 non-null    float64\n",
      " 2   mucous membranes            253 non-null    float64\n",
      " 3   abdominal distension        244 non-null    float64\n",
      " 4   rectal examination - feces  198 non-null    float64\n",
      " 5   packed cell volume          271 non-null    float64\n",
      " 6   total protein               267 non-null    float64\n",
      " 7   outcom                      299 non-null    float64\n",
      "dtypes: float64(8)\n",
      "memory usage: 18.9 KB\n"
     ]
    },
    {
     "data": {
      "text/html": [
       "<div>\n",
       "<style scoped>\n",
       "    .dataframe tbody tr th:only-of-type {\n",
       "        vertical-align: middle;\n",
       "    }\n",
       "\n",
       "    .dataframe tbody tr th {\n",
       "        vertical-align: top;\n",
       "    }\n",
       "\n",
       "    .dataframe thead th {\n",
       "        text-align: right;\n",
       "    }\n",
       "</style>\n",
       "<table border=\"1\" class=\"dataframe\">\n",
       "  <thead>\n",
       "    <tr style=\"text-align: right;\">\n",
       "      <th></th>\n",
       "      <th>rectal temperature</th>\n",
       "      <th>pulse</th>\n",
       "      <th>mucous membranes</th>\n",
       "      <th>abdominal distension</th>\n",
       "      <th>rectal examination - feces</th>\n",
       "      <th>packed cell volume</th>\n",
       "      <th>total protein</th>\n",
       "      <th>outcom</th>\n",
       "    </tr>\n",
       "  </thead>\n",
       "  <tbody>\n",
       "    <tr>\n",
       "      <th>0</th>\n",
       "      <td>38.5</td>\n",
       "      <td>66.0</td>\n",
       "      <td>NaN</td>\n",
       "      <td>4.0</td>\n",
       "      <td>3.0</td>\n",
       "      <td>45.0</td>\n",
       "      <td>8.4</td>\n",
       "      <td>2.0</td>\n",
       "    </tr>\n",
       "    <tr>\n",
       "      <th>1</th>\n",
       "      <td>39.2</td>\n",
       "      <td>88.0</td>\n",
       "      <td>4.0</td>\n",
       "      <td>2.0</td>\n",
       "      <td>4.0</td>\n",
       "      <td>50.0</td>\n",
       "      <td>85.0</td>\n",
       "      <td>3.0</td>\n",
       "    </tr>\n",
       "    <tr>\n",
       "      <th>2</th>\n",
       "      <td>38.3</td>\n",
       "      <td>40.0</td>\n",
       "      <td>3.0</td>\n",
       "      <td>1.0</td>\n",
       "      <td>1.0</td>\n",
       "      <td>33.0</td>\n",
       "      <td>6.7</td>\n",
       "      <td>1.0</td>\n",
       "    </tr>\n",
       "    <tr>\n",
       "      <th>3</th>\n",
       "      <td>39.1</td>\n",
       "      <td>164.0</td>\n",
       "      <td>6.0</td>\n",
       "      <td>4.0</td>\n",
       "      <td>3.0</td>\n",
       "      <td>48.0</td>\n",
       "      <td>7.2</td>\n",
       "      <td>2.0</td>\n",
       "    </tr>\n",
       "    <tr>\n",
       "      <th>4</th>\n",
       "      <td>37.3</td>\n",
       "      <td>104.0</td>\n",
       "      <td>6.0</td>\n",
       "      <td>NaN</td>\n",
       "      <td>NaN</td>\n",
       "      <td>74.0</td>\n",
       "      <td>7.4</td>\n",
       "      <td>2.0</td>\n",
       "    </tr>\n",
       "  </tbody>\n",
       "</table>\n",
       "</div>"
      ],
      "text/plain": [
       "   rectal temperature  pulse  mucous membranes  abdominal distension  \\\n",
       "0                38.5   66.0               NaN                   4.0   \n",
       "1                39.2   88.0               4.0                   2.0   \n",
       "2                38.3   40.0               3.0                   1.0   \n",
       "3                39.1  164.0               6.0                   4.0   \n",
       "4                37.3  104.0               6.0                   NaN   \n",
       "\n",
       "   rectal examination - feces  packed cell volume  total protein  outcom  \n",
       "0                         3.0                45.0            8.4     2.0  \n",
       "1                         4.0                50.0           85.0     3.0  \n",
       "2                         1.0                33.0            6.7     1.0  \n",
       "3                         3.0                48.0            7.2     2.0  \n",
       "4                         NaN                74.0            7.4     2.0  "
      ]
     },
     "execution_count": 3,
     "metadata": {},
     "output_type": "execute_result"
    }
   ],
   "source": [
    "horse.info()\n",
    "horse.head()"
   ]
  },
  {
   "cell_type": "code",
   "execution_count": 4,
   "metadata": {},
   "outputs": [],
   "source": [
    "horse['mucous membranes'] = horse['mucous membranes'].astype('category')\n",
    "horse['abdominal distension'] = horse['abdominal distension'].astype('category')\n",
    "horse['rectal examination - feces'] = horse['rectal examination - feces'].astype('category')\n",
    "horse['outcom'] = horse['outcom'].astype('category')"
   ]
  },
  {
   "cell_type": "code",
   "execution_count": 5,
   "metadata": {},
   "outputs": [
    {
     "data": {
      "text/html": [
       "<div>\n",
       "<style scoped>\n",
       "    .dataframe tbody tr th:only-of-type {\n",
       "        vertical-align: middle;\n",
       "    }\n",
       "\n",
       "    .dataframe tbody tr th {\n",
       "        vertical-align: top;\n",
       "    }\n",
       "\n",
       "    .dataframe thead th {\n",
       "        text-align: right;\n",
       "    }\n",
       "</style>\n",
       "<table border=\"1\" class=\"dataframe\">\n",
       "  <thead>\n",
       "    <tr style=\"text-align: right;\">\n",
       "      <th></th>\n",
       "      <th>rectal temperature</th>\n",
       "      <th>pulse</th>\n",
       "      <th>packed cell volume</th>\n",
       "      <th>total protein</th>\n",
       "    </tr>\n",
       "  </thead>\n",
       "  <tbody>\n",
       "    <tr>\n",
       "      <th>count</th>\n",
       "      <td>240.000000</td>\n",
       "      <td>276.000000</td>\n",
       "      <td>271.000000</td>\n",
       "      <td>267.000000</td>\n",
       "    </tr>\n",
       "    <tr>\n",
       "      <th>mean</th>\n",
       "      <td>38.167917</td>\n",
       "      <td>71.913043</td>\n",
       "      <td>46.295203</td>\n",
       "      <td>24.456929</td>\n",
       "    </tr>\n",
       "    <tr>\n",
       "      <th>std</th>\n",
       "      <td>0.732289</td>\n",
       "      <td>28.630557</td>\n",
       "      <td>10.419335</td>\n",
       "      <td>27.475009</td>\n",
       "    </tr>\n",
       "    <tr>\n",
       "      <th>min</th>\n",
       "      <td>35.400000</td>\n",
       "      <td>30.000000</td>\n",
       "      <td>23.000000</td>\n",
       "      <td>3.300000</td>\n",
       "    </tr>\n",
       "    <tr>\n",
       "      <th>25%</th>\n",
       "      <td>37.800000</td>\n",
       "      <td>48.000000</td>\n",
       "      <td>38.000000</td>\n",
       "      <td>6.500000</td>\n",
       "    </tr>\n",
       "    <tr>\n",
       "      <th>50%</th>\n",
       "      <td>38.200000</td>\n",
       "      <td>64.000000</td>\n",
       "      <td>45.000000</td>\n",
       "      <td>7.500000</td>\n",
       "    </tr>\n",
       "    <tr>\n",
       "      <th>75%</th>\n",
       "      <td>38.500000</td>\n",
       "      <td>88.000000</td>\n",
       "      <td>52.000000</td>\n",
       "      <td>57.000000</td>\n",
       "    </tr>\n",
       "    <tr>\n",
       "      <th>max</th>\n",
       "      <td>40.800000</td>\n",
       "      <td>184.000000</td>\n",
       "      <td>75.000000</td>\n",
       "      <td>89.000000</td>\n",
       "    </tr>\n",
       "  </tbody>\n",
       "</table>\n",
       "</div>"
      ],
      "text/plain": [
       "       rectal temperature       pulse  packed cell volume  total protein\n",
       "count          240.000000  276.000000          271.000000     267.000000\n",
       "mean            38.167917   71.913043           46.295203      24.456929\n",
       "std              0.732289   28.630557           10.419335      27.475009\n",
       "min             35.400000   30.000000           23.000000       3.300000\n",
       "25%             37.800000   48.000000           38.000000       6.500000\n",
       "50%             38.200000   64.000000           45.000000       7.500000\n",
       "75%             38.500000   88.000000           52.000000      57.000000\n",
       "max             40.800000  184.000000           75.000000      89.000000"
      ]
     },
     "execution_count": 5,
     "metadata": {},
     "output_type": "execute_result"
    }
   ],
   "source": [
    "horse.describe()"
   ]
  },
  {
   "cell_type": "code",
   "execution_count": 6,
   "metadata": {},
   "outputs": [
    {
     "data": {
      "text/plain": [
       "rectal temperature            20.00\n",
       "pulse                          8.00\n",
       "mucous membranes              15.67\n",
       "abdominal distension          18.67\n",
       "rectal examination - feces    34.00\n",
       "packed cell volume             9.67\n",
       "total protein                 11.00\n",
       "outcom                         0.33\n",
       "dtype: float64"
      ]
     },
     "execution_count": 6,
     "metadata": {},
     "output_type": "execute_result"
    }
   ],
   "source": [
    "#процент пустых значений переменных\n",
    "(horse.isna().mean() * 100).round(2)"
   ]
  },
  {
   "cell_type": "code",
   "execution_count": 8,
   "metadata": {},
   "outputs": [
    {
     "data": {
      "image/png": "[encoded data removed]",
      "text/plain": [
       "<Figure size 360x216 with 1 Axes>"
      ]
     },
     "metadata": {
      "needs_background": "light"
     },
     "output_type": "display_data"
    },
    {
     "data": {
      "image/png": "[encoded data removed]",
      "text/plain": [
       "<Figure size 360x216 with 1 Axes>"
      ]
     },
     "metadata": {
      "needs_background": "light"
     },
     "output_type": "display_data"
    },
    {
     "data": {
      "image/png": "[encoded data removed]",
      "text/plain": [
       "<Figure size 360x216 with 1 Axes>"
      ]
     },
     "metadata": {
      "needs_background": "light"
     },
     "output_type": "display_data"
    },
    {
     "data": {
      "image/png": "[encoded data removed]",
      "text/plain": [
       "<Figure size 360x216 with 1 Axes>"
      ]
     },
     "metadata": {
      "needs_background": "light"
     },
     "output_type": "display_data"
    }
   ],
   "source": [
    "#визуализация дискретных (категориальных) параметров\n",
    "for col in [item for item in horse.select_dtypes(['category']).columns]:\n",
    "    plt.figure(figsize=(5,3))\n",
    "    ax = sns.histplot(data=horse[col].cat.as_ordered())\n",
    "    ax.set(xlabel = None, title = col.upper())\n",
    "plt.show()"
   ]
  },
  {
   "cell_type": "code",
   "execution_count": 267,
   "metadata": {},
   "outputs": [
    {
     "data": {
      "text/plain": [
       "'\\nВыводы по характеристикам:\\n1. rectal temperature - значения сконцентрированы вокруг среднего, размах не велик, 20% пустых\\n2. pulse - значения сконцентрированы вокруг среднего, размах большой, 8% пустых\\n3. packed cell volume - значения сконцентрированы вокруг среднего, размах большой, 9,7% пустых\\n4. total protein - значения сильно смещены влево (к диапазону нормальных значений), размах большой, 11% пустых\\n\\n5. mucous membranes - 15,6% пустых, превалирует категория \"1\"\\n6. abdominal distension - 18,6% пустых, распределение близко к равномерному\\n7. rectal examination - feces - 34% пустых, превалируют категории \"1\" и \"4\"\\n8. outcom - 0.33% пустых, превалируют категории \"1\"\\n'"
      ]
     },
     "execution_count": 267,
     "metadata": {},
     "output_type": "execute_result"
    }
   ],
   "source": [
    "\"\"\"\n",
    "Выводы по характеристикам:\n",
    "1. rectal temperature - значения сконцентрированы вокруг среднего, размах не велик, 20% пустых\n",
    "2. pulse - значения сконцентрированы вокруг среднего, размах большой, 8% пустых\n",
    "3. packed cell volume - значения сконцентрированы вокруг среднего, размах большой, 9,7% пустых\n",
    "4. total protein - значения сильно смещены влево (к диапазону нормальных значений), размах большой, 11% пустых\n",
    "\n",
    "5. mucous membranes - 15,6% пустых, превалирует категория \"1\"\n",
    "6. abdominal distension - 18,6% пустых, распределение близко к равномерному\n",
    "7. rectal examination - feces - 34% пустых, превалируют категории \"1\" и \"4\"\n",
    "8. outcom - 0.33% пустых, превалируют категории \"1\"\n",
    "\"\"\""
   ]
  },
  {
   "cell_type": "code",
   "execution_count": 268,
   "metadata": {},
   "outputs": [
    {
     "data": {
      "image/png": "[encoded data removed]",
      "text/plain": [
       "<Figure size 1080x72 with 1 Axes>"
      ]
     },
     "metadata": {
      "needs_background": "light"
     },
     "output_type": "display_data"
    },
    {
     "data": {
      "image/png": "[encoded data removed]",
      "text/plain": [
       "<Figure size 1080x216 with 1 Axes>"
      ]
     },
     "metadata": {
      "needs_background": "light"
     },
     "output_type": "display_data"
    },
    {
     "data": {
      "image/png": "[encoded data removed]",
      "text/plain": [
       "<Figure size 1080x72 with 1 Axes>"
      ]
     },
     "metadata": {
      "needs_background": "light"
     },
     "output_type": "display_data"
    },
    {
     "data": {
      "image/png": "[encoded data removed]",
      "text/plain": [
       "<Figure size 1080x216 with 1 Axes>"
      ]
     },
     "metadata": {
      "needs_background": "light"
     },
     "output_type": "display_data"
    },
    {
     "data": {
      "image/png": "[encoded data removed]",
      "text/plain": [
       "<Figure size 1080x72 with 1 Axes>"
      ]
     },
     "metadata": {
      "needs_background": "light"
     },
     "output_type": "display_data"
    },
    {
     "data": {
      "image/png": "[encoded data removed]",
      "text/plain": [
       "<Figure size 1080x216 with 1 Axes>"
      ]
     },
     "metadata": {
      "needs_background": "light"
     },
     "output_type": "display_data"
    },
    {
     "data": {
      "image/png": "[encoded data removed]",
      "text/plain": [
       "<Figure size 1080x72 with 1 Axes>"
      ]
     },
     "metadata": {
      "needs_background": "light"
     },
     "output_type": "display_data"
    },
    {
     "data": {
      "image/png": "[encoded data removed]",
      "text/plain": [
       "<Figure size 1080x216 with 1 Axes>"
      ]
     },
     "metadata": {
      "needs_background": "light"
     },
     "output_type": "display_data"
    }
   ],
   "source": [
    "#Задание №2\n",
    "\n",
    "#визуализация непрерывных параметров\n",
    "for col in [item for item in horse.select_dtypes(['float64']).columns]:\n",
    "    plt.figure(figsize=(15,1))\n",
    "    ax = sns.boxplot(data=horse[col], orient=\"h\", palette=\"Blues\")\n",
    "    ax.set_title(col.upper())\n",
    "    plt.figure(figsize=(15,3))\n",
    "    ax1 = sns.histplot(data=horse[col], palette=\"Blues\")\n",
    "    ax1.set(xlabel = None, ylabel = None)\n",
    "    \n",
    "plt.show()"
   ]
  },
  {
   "cell_type": "code",
   "execution_count": 269,
   "metadata": {},
   "outputs": [
    {
     "name": "stdout",
     "output_type": "stream",
     "text": [
      "Количество выбросов непрерывных переменных:\n",
      "rectal temperature:  14(5.83%)\n",
      "pulse:  5(1.81%)\n",
      "packed cell volume:  3(1.11%)\n",
      "total protein:  0(0.0%)\n"
     ]
    }
   ],
   "source": [
    "#количество и доля выбросов\n",
    "print('Количество выбросов непрерывных переменных:')\n",
    "for col in [item for item in horse.select_dtypes(['float64']).columns]:\n",
    "    q1 = horse[col].quantile(0.25)\n",
    "    q3 = horse[col].quantile(0.75)\n",
    "    iqr = q3 - q1\n",
    "    lower_bound = q1 - (1.5 * iqr) \n",
    "    upper_bound = q3 + (1.5 * iqr)\n",
    "    remove_outliers = horse[horse[col].between(lower_bound, upper_bound, inclusive=True)]\n",
    "    out_num = len(horse[horse[col].isna() == False]) - len(remove_outliers)\n",
    "    out_num_percent = round((out_num * 100) / len(horse[horse[col].isna() == False]), 2)\n",
    "    print(f'{col}:  {out_num}({out_num_percent}%)')"
   ]
  },
  {
   "cell_type": "code",
   "execution_count": 270,
   "metadata": {},
   "outputs": [
    {
     "data": {
      "text/plain": [
       "\"\\nВыводы по выбросам:\\n1. rectal temperature - количество выбросов не велико, обусловлены естественными причинами (согласно описания),\\nоставить, как есть\\n2. pulse - количество выбросов не велико, экстремальные значения параметра, обусловлены состоянием здоровья лошади \\n(вывод сделан на основании данных о смерности лошадей ('outcom') с 'pulse' > 140), оставить, как есть\\n3. packed cell volume - количество выбросов не велико, экстремальные значения параметра, обусловлены состоянием \\nздоровья лошади (вывод сделан на основании данных о смерности лошадей ('outcom') с 'acked cell volume' > 60), \\nоставить, как есть\\n4. total protein - выбросов нет\\n\""
      ]
     },
     "execution_count": 270,
     "metadata": {},
     "output_type": "execute_result"
    }
   ],
   "source": [
    "\"\"\"\n",
    "Выводы по выбросам:\n",
    "1. rectal temperature - количество выбросов не велико, обусловлены естественными причинами (согласно описания),\n",
    "оставить, как есть\n",
    "2. pulse - количество выбросов не велико, экстремальные значения параметра, обусловлены состоянием здоровья лошади \n",
    "(вывод сделан на основании данных о смерности лошадей ('outcom') с 'pulse' > 140), оставить, как есть\n",
    "3. packed cell volume - количество выбросов не велико, экстремальные значения параметра, обусловлены состоянием \n",
    "здоровья лошади (вывод сделан на основании данных о смерности лошадей ('outcom') с 'acked cell volume' > 60), \n",
    "оставить, как есть\n",
    "4. total protein - выбросов нет\n",
    "\"\"\""
   ]
  },
  {
   "cell_type": "code",
   "execution_count": 271,
   "metadata": {},
   "outputs": [
    {
     "data": {
      "text/html": [
       "<div>\n",
       "<style scoped>\n",
       "    .dataframe tbody tr th:only-of-type {\n",
       "        vertical-align: middle;\n",
       "    }\n",
       "\n",
       "    .dataframe tbody tr th {\n",
       "        vertical-align: top;\n",
       "    }\n",
       "\n",
       "    .dataframe thead th {\n",
       "        text-align: right;\n",
       "    }\n",
       "</style>\n",
       "<table border=\"1\" class=\"dataframe\">\n",
       "  <thead>\n",
       "    <tr style=\"text-align: right;\">\n",
       "      <th></th>\n",
       "      <th>rectal temperature</th>\n",
       "      <th>pulse</th>\n",
       "      <th>mucous membranes</th>\n",
       "      <th>abdominal distension</th>\n",
       "      <th>rectal examination - feces</th>\n",
       "      <th>packed cell volume</th>\n",
       "      <th>total protein</th>\n",
       "      <th>outcom</th>\n",
       "    </tr>\n",
       "  </thead>\n",
       "  <tbody>\n",
       "    <tr>\n",
       "      <th>3</th>\n",
       "      <td>39.1</td>\n",
       "      <td>164.0</td>\n",
       "      <td>6.0</td>\n",
       "      <td>4.0</td>\n",
       "      <td>3.0</td>\n",
       "      <td>48.0</td>\n",
       "      <td>7.2</td>\n",
       "      <td>2.0</td>\n",
       "    </tr>\n",
       "    <tr>\n",
       "      <th>39</th>\n",
       "      <td>39.2</td>\n",
       "      <td>146.0</td>\n",
       "      <td>NaN</td>\n",
       "      <td>NaN</td>\n",
       "      <td>NaN</td>\n",
       "      <td>NaN</td>\n",
       "      <td>NaN</td>\n",
       "      <td>2.0</td>\n",
       "    </tr>\n",
       "    <tr>\n",
       "      <th>41</th>\n",
       "      <td>39.0</td>\n",
       "      <td>150.0</td>\n",
       "      <td>NaN</td>\n",
       "      <td>NaN</td>\n",
       "      <td>NaN</td>\n",
       "      <td>47.0</td>\n",
       "      <td>8.5</td>\n",
       "      <td>1.0</td>\n",
       "    </tr>\n",
       "    <tr>\n",
       "      <th>55</th>\n",
       "      <td>38.6</td>\n",
       "      <td>160.0</td>\n",
       "      <td>5.0</td>\n",
       "      <td>4.0</td>\n",
       "      <td>4.0</td>\n",
       "      <td>38.0</td>\n",
       "      <td>NaN</td>\n",
       "      <td>2.0</td>\n",
       "    </tr>\n",
       "    <tr>\n",
       "      <th>255</th>\n",
       "      <td>38.8</td>\n",
       "      <td>184.0</td>\n",
       "      <td>1.0</td>\n",
       "      <td>3.0</td>\n",
       "      <td>2.0</td>\n",
       "      <td>33.0</td>\n",
       "      <td>3.3</td>\n",
       "      <td>2.0</td>\n",
       "    </tr>\n",
       "    <tr>\n",
       "      <th>275</th>\n",
       "      <td>38.8</td>\n",
       "      <td>150.0</td>\n",
       "      <td>6.0</td>\n",
       "      <td>2.0</td>\n",
       "      <td>NaN</td>\n",
       "      <td>50.0</td>\n",
       "      <td>6.2</td>\n",
       "      <td>2.0</td>\n",
       "    </tr>\n",
       "  </tbody>\n",
       "</table>\n",
       "</div>"
      ],
      "text/plain": [
       "     rectal temperature  pulse mucous membranes abdominal distension  \\\n",
       "3                  39.1  164.0              6.0                  4.0   \n",
       "39                 39.2  146.0              NaN                  NaN   \n",
       "41                 39.0  150.0              NaN                  NaN   \n",
       "55                 38.6  160.0              5.0                  4.0   \n",
       "255                38.8  184.0              1.0                  3.0   \n",
       "275                38.8  150.0              6.0                  2.0   \n",
       "\n",
       "    rectal examination - feces  packed cell volume  total protein outcom  \n",
       "3                          3.0                48.0            7.2    2.0  \n",
       "39                         NaN                 NaN            NaN    2.0  \n",
       "41                         NaN                47.0            8.5    1.0  \n",
       "55                         4.0                38.0            NaN    2.0  \n",
       "255                        2.0                33.0            3.3    2.0  \n",
       "275                        NaN                50.0            6.2    2.0  "
      ]
     },
     "execution_count": 271,
     "metadata": {},
     "output_type": "execute_result"
    }
   ],
   "source": [
    "horse[horse['pulse'] > 140]"
   ]
  },
  {
   "cell_type": "code",
   "execution_count": 272,
   "metadata": {},
   "outputs": [
    {
     "data": {
      "text/html": [
       "<div>\n",
       "<style scoped>\n",
       "    .dataframe tbody tr th:only-of-type {\n",
       "        vertical-align: middle;\n",
       "    }\n",
       "\n",
       "    .dataframe tbody tr th {\n",
       "        vertical-align: top;\n",
       "    }\n",
       "\n",
       "    .dataframe thead th {\n",
       "        text-align: right;\n",
       "    }\n",
       "</style>\n",
       "<table border=\"1\" class=\"dataframe\">\n",
       "  <thead>\n",
       "    <tr style=\"text-align: right;\">\n",
       "      <th></th>\n",
       "      <th>rectal temperature</th>\n",
       "      <th>pulse</th>\n",
       "      <th>mucous membranes</th>\n",
       "      <th>abdominal distension</th>\n",
       "      <th>rectal examination - feces</th>\n",
       "      <th>packed cell volume</th>\n",
       "      <th>total protein</th>\n",
       "      <th>outcom</th>\n",
       "    </tr>\n",
       "  </thead>\n",
       "  <tbody>\n",
       "    <tr>\n",
       "      <th>4</th>\n",
       "      <td>37.3</td>\n",
       "      <td>104.0</td>\n",
       "      <td>6.0</td>\n",
       "      <td>NaN</td>\n",
       "      <td>NaN</td>\n",
       "      <td>74.0</td>\n",
       "      <td>7.4</td>\n",
       "      <td>2.0</td>\n",
       "    </tr>\n",
       "    <tr>\n",
       "      <th>30</th>\n",
       "      <td>37.7</td>\n",
       "      <td>96.0</td>\n",
       "      <td>4.0</td>\n",
       "      <td>4.0</td>\n",
       "      <td>4.0</td>\n",
       "      <td>66.0</td>\n",
       "      <td>7.5</td>\n",
       "      <td>2.0</td>\n",
       "    </tr>\n",
       "    <tr>\n",
       "      <th>35</th>\n",
       "      <td>NaN</td>\n",
       "      <td>104.0</td>\n",
       "      <td>3.0</td>\n",
       "      <td>3.0</td>\n",
       "      <td>NaN</td>\n",
       "      <td>73.0</td>\n",
       "      <td>8.4</td>\n",
       "      <td>3.0</td>\n",
       "    </tr>\n",
       "    <tr>\n",
       "      <th>40</th>\n",
       "      <td>NaN</td>\n",
       "      <td>88.0</td>\n",
       "      <td>6.0</td>\n",
       "      <td>3.0</td>\n",
       "      <td>4.0</td>\n",
       "      <td>63.0</td>\n",
       "      <td>6.5</td>\n",
       "      <td>2.0</td>\n",
       "    </tr>\n",
       "    <tr>\n",
       "      <th>46</th>\n",
       "      <td>37.9</td>\n",
       "      <td>60.0</td>\n",
       "      <td>4.0</td>\n",
       "      <td>4.0</td>\n",
       "      <td>4.0</td>\n",
       "      <td>65.0</td>\n",
       "      <td>7.5</td>\n",
       "      <td>1.0</td>\n",
       "    </tr>\n",
       "    <tr>\n",
       "      <th>49</th>\n",
       "      <td>37.2</td>\n",
       "      <td>84.0</td>\n",
       "      <td>5.0</td>\n",
       "      <td>2.0</td>\n",
       "      <td>2.0</td>\n",
       "      <td>73.0</td>\n",
       "      <td>5.5</td>\n",
       "      <td>2.0</td>\n",
       "    </tr>\n",
       "    <tr>\n",
       "      <th>62</th>\n",
       "      <td>37.8</td>\n",
       "      <td>88.0</td>\n",
       "      <td>2.0</td>\n",
       "      <td>NaN</td>\n",
       "      <td>4.0</td>\n",
       "      <td>64.0</td>\n",
       "      <td>8.0</td>\n",
       "      <td>2.0</td>\n",
       "    </tr>\n",
       "    <tr>\n",
       "      <th>63</th>\n",
       "      <td>38.2</td>\n",
       "      <td>130.0</td>\n",
       "      <td>4.0</td>\n",
       "      <td>4.0</td>\n",
       "      <td>NaN</td>\n",
       "      <td>65.0</td>\n",
       "      <td>82.0</td>\n",
       "      <td>3.0</td>\n",
       "    </tr>\n",
       "    <tr>\n",
       "      <th>79</th>\n",
       "      <td>37.5</td>\n",
       "      <td>96.0</td>\n",
       "      <td>6.0</td>\n",
       "      <td>2.0</td>\n",
       "      <td>NaN</td>\n",
       "      <td>69.0</td>\n",
       "      <td>8.9</td>\n",
       "      <td>1.0</td>\n",
       "    </tr>\n",
       "    <tr>\n",
       "      <th>83</th>\n",
       "      <td>38.0</td>\n",
       "      <td>NaN</td>\n",
       "      <td>6.0</td>\n",
       "      <td>4.0</td>\n",
       "      <td>NaN</td>\n",
       "      <td>68.0</td>\n",
       "      <td>7.8</td>\n",
       "      <td>2.0</td>\n",
       "    </tr>\n",
       "    <tr>\n",
       "      <th>121</th>\n",
       "      <td>38.3</td>\n",
       "      <td>80.0</td>\n",
       "      <td>6.0</td>\n",
       "      <td>1.0</td>\n",
       "      <td>1.0</td>\n",
       "      <td>67.0</td>\n",
       "      <td>10.2</td>\n",
       "      <td>3.0</td>\n",
       "    </tr>\n",
       "    <tr>\n",
       "      <th>141</th>\n",
       "      <td>36.0</td>\n",
       "      <td>42.0</td>\n",
       "      <td>5.0</td>\n",
       "      <td>NaN</td>\n",
       "      <td>NaN</td>\n",
       "      <td>64.0</td>\n",
       "      <td>6.8</td>\n",
       "      <td>2.0</td>\n",
       "    </tr>\n",
       "    <tr>\n",
       "      <th>144</th>\n",
       "      <td>37.1</td>\n",
       "      <td>84.0</td>\n",
       "      <td>6.0</td>\n",
       "      <td>4.0</td>\n",
       "      <td>4.0</td>\n",
       "      <td>75.0</td>\n",
       "      <td>81.0</td>\n",
       "      <td>3.0</td>\n",
       "    </tr>\n",
       "    <tr>\n",
       "      <th>151</th>\n",
       "      <td>39.3</td>\n",
       "      <td>NaN</td>\n",
       "      <td>6.0</td>\n",
       "      <td>2.0</td>\n",
       "      <td>4.0</td>\n",
       "      <td>75.0</td>\n",
       "      <td>NaN</td>\n",
       "      <td>2.0</td>\n",
       "    </tr>\n",
       "    <tr>\n",
       "      <th>152</th>\n",
       "      <td>NaN</td>\n",
       "      <td>100.0</td>\n",
       "      <td>4.0</td>\n",
       "      <td>4.0</td>\n",
       "      <td>NaN</td>\n",
       "      <td>68.0</td>\n",
       "      <td>64.0</td>\n",
       "      <td>1.0</td>\n",
       "    </tr>\n",
       "    <tr>\n",
       "      <th>171</th>\n",
       "      <td>39.0</td>\n",
       "      <td>86.0</td>\n",
       "      <td>5.0</td>\n",
       "      <td>3.0</td>\n",
       "      <td>NaN</td>\n",
       "      <td>68.0</td>\n",
       "      <td>5.8</td>\n",
       "      <td>2.0</td>\n",
       "    </tr>\n",
       "    <tr>\n",
       "      <th>173</th>\n",
       "      <td>NaN</td>\n",
       "      <td>104.0</td>\n",
       "      <td>5.0</td>\n",
       "      <td>3.0</td>\n",
       "      <td>4.0</td>\n",
       "      <td>69.0</td>\n",
       "      <td>8.6</td>\n",
       "      <td>2.0</td>\n",
       "    </tr>\n",
       "    <tr>\n",
       "      <th>182</th>\n",
       "      <td>38.0</td>\n",
       "      <td>NaN</td>\n",
       "      <td>6.0</td>\n",
       "      <td>4.0</td>\n",
       "      <td>NaN</td>\n",
       "      <td>68.0</td>\n",
       "      <td>7.8</td>\n",
       "      <td>2.0</td>\n",
       "    </tr>\n",
       "    <tr>\n",
       "      <th>196</th>\n",
       "      <td>38.5</td>\n",
       "      <td>60.0</td>\n",
       "      <td>5.0</td>\n",
       "      <td>1.0</td>\n",
       "      <td>2.0</td>\n",
       "      <td>63.0</td>\n",
       "      <td>7.5</td>\n",
       "      <td>3.0</td>\n",
       "    </tr>\n",
       "    <tr>\n",
       "      <th>197</th>\n",
       "      <td>38.5</td>\n",
       "      <td>96.0</td>\n",
       "      <td>NaN</td>\n",
       "      <td>2.0</td>\n",
       "      <td>4.0</td>\n",
       "      <td>70.0</td>\n",
       "      <td>8.5</td>\n",
       "      <td>2.0</td>\n",
       "    </tr>\n",
       "    <tr>\n",
       "      <th>208</th>\n",
       "      <td>37.8</td>\n",
       "      <td>88.0</td>\n",
       "      <td>5.0</td>\n",
       "      <td>3.0</td>\n",
       "      <td>4.0</td>\n",
       "      <td>64.0</td>\n",
       "      <td>89.0</td>\n",
       "      <td>3.0</td>\n",
       "    </tr>\n",
       "    <tr>\n",
       "      <th>217</th>\n",
       "      <td>38.0</td>\n",
       "      <td>76.0</td>\n",
       "      <td>NaN</td>\n",
       "      <td>NaN</td>\n",
       "      <td>NaN</td>\n",
       "      <td>71.0</td>\n",
       "      <td>11.0</td>\n",
       "      <td>1.0</td>\n",
       "    </tr>\n",
       "    <tr>\n",
       "      <th>228</th>\n",
       "      <td>37.3</td>\n",
       "      <td>90.0</td>\n",
       "      <td>6.0</td>\n",
       "      <td>3.0</td>\n",
       "      <td>1.0</td>\n",
       "      <td>65.0</td>\n",
       "      <td>50.0</td>\n",
       "      <td>3.0</td>\n",
       "    </tr>\n",
       "    <tr>\n",
       "      <th>231</th>\n",
       "      <td>39.5</td>\n",
       "      <td>92.0</td>\n",
       "      <td>6.0</td>\n",
       "      <td>1.0</td>\n",
       "      <td>4.0</td>\n",
       "      <td>72.0</td>\n",
       "      <td>6.4</td>\n",
       "      <td>2.0</td>\n",
       "    </tr>\n",
       "    <tr>\n",
       "      <th>250</th>\n",
       "      <td>39.3</td>\n",
       "      <td>100.0</td>\n",
       "      <td>6.0</td>\n",
       "      <td>1.0</td>\n",
       "      <td>NaN</td>\n",
       "      <td>66.0</td>\n",
       "      <td>13.0</td>\n",
       "      <td>3.0</td>\n",
       "    </tr>\n",
       "    <tr>\n",
       "      <th>257</th>\n",
       "      <td>38.7</td>\n",
       "      <td>96.0</td>\n",
       "      <td>4.0</td>\n",
       "      <td>NaN</td>\n",
       "      <td>NaN</td>\n",
       "      <td>64.0</td>\n",
       "      <td>9.0</td>\n",
       "      <td>2.0</td>\n",
       "    </tr>\n",
       "    <tr>\n",
       "      <th>273</th>\n",
       "      <td>37.7</td>\n",
       "      <td>120.0</td>\n",
       "      <td>3.0</td>\n",
       "      <td>3.0</td>\n",
       "      <td>NaN</td>\n",
       "      <td>65.0</td>\n",
       "      <td>7.0</td>\n",
       "      <td>2.0</td>\n",
       "    </tr>\n",
       "    <tr>\n",
       "      <th>281</th>\n",
       "      <td>40.0</td>\n",
       "      <td>78.0</td>\n",
       "      <td>5.0</td>\n",
       "      <td>1.0</td>\n",
       "      <td>4.0</td>\n",
       "      <td>66.0</td>\n",
       "      <td>6.5</td>\n",
       "      <td>2.0</td>\n",
       "    </tr>\n",
       "  </tbody>\n",
       "</table>\n",
       "</div>"
      ],
      "text/plain": [
       "     rectal temperature  pulse mucous membranes abdominal distension  \\\n",
       "4                  37.3  104.0              6.0                  NaN   \n",
       "30                 37.7   96.0              4.0                  4.0   \n",
       "35                  NaN  104.0              3.0                  3.0   \n",
       "40                  NaN   88.0              6.0                  3.0   \n",
       "46                 37.9   60.0              4.0                  4.0   \n",
       "49                 37.2   84.0              5.0                  2.0   \n",
       "62                 37.8   88.0              2.0                  NaN   \n",
       "63                 38.2  130.0              4.0                  4.0   \n",
       "79                 37.5   96.0              6.0                  2.0   \n",
       "83                 38.0    NaN              6.0                  4.0   \n",
       "121                38.3   80.0              6.0                  1.0   \n",
       "141                36.0   42.0              5.0                  NaN   \n",
       "144                37.1   84.0              6.0                  4.0   \n",
       "151                39.3    NaN              6.0                  2.0   \n",
       "152                 NaN  100.0              4.0                  4.0   \n",
       "171                39.0   86.0              5.0                  3.0   \n",
       "173                 NaN  104.0              5.0                  3.0   \n",
       "182                38.0    NaN              6.0                  4.0   \n",
       "196                38.5   60.0              5.0                  1.0   \n",
       "197                38.5   96.0              NaN                  2.0   \n",
       "208                37.8   88.0              5.0                  3.0   \n",
       "217                38.0   76.0              NaN                  NaN   \n",
       "228                37.3   90.0              6.0                  3.0   \n",
       "231                39.5   92.0              6.0                  1.0   \n",
       "250                39.3  100.0              6.0                  1.0   \n",
       "257                38.7   96.0              4.0                  NaN   \n",
       "273                37.7  120.0              3.0                  3.0   \n",
       "281                40.0   78.0              5.0                  1.0   \n",
       "\n",
       "    rectal examination - feces  packed cell volume  total protein outcom  \n",
       "4                          NaN                74.0            7.4    2.0  \n",
       "30                         4.0                66.0            7.5    2.0  \n",
       "35                         NaN                73.0            8.4    3.0  \n",
       "40                         4.0                63.0            6.5    2.0  \n",
       "46                         4.0                65.0            7.5    1.0  \n",
       "49                         2.0                73.0            5.5    2.0  \n",
       "62                         4.0                64.0            8.0    2.0  \n",
       "63                         NaN                65.0           82.0    3.0  \n",
       "79                         NaN                69.0            8.9    1.0  \n",
       "83                         NaN                68.0            7.8    2.0  \n",
       "121                        1.0                67.0           10.2    3.0  \n",
       "141                        NaN                64.0            6.8    2.0  \n",
       "144                        4.0                75.0           81.0    3.0  \n",
       "151                        4.0                75.0            NaN    2.0  \n",
       "152                        NaN                68.0           64.0    1.0  \n",
       "171                        NaN                68.0            5.8    2.0  \n",
       "173                        4.0                69.0            8.6    2.0  \n",
       "182                        NaN                68.0            7.8    2.0  \n",
       "196                        2.0                63.0            7.5    3.0  \n",
       "197                        4.0                70.0            8.5    2.0  \n",
       "208                        4.0                64.0           89.0    3.0  \n",
       "217                        NaN                71.0           11.0    1.0  \n",
       "228                        1.0                65.0           50.0    3.0  \n",
       "231                        4.0                72.0            6.4    2.0  \n",
       "250                        NaN                66.0           13.0    3.0  \n",
       "257                        NaN                64.0            9.0    2.0  \n",
       "273                        NaN                65.0            7.0    2.0  \n",
       "281                        4.0                66.0            6.5    2.0  "
      ]
     },
     "execution_count": 272,
     "metadata": {},
     "output_type": "execute_result"
    }
   ],
   "source": [
    "horse[horse['packed cell volume'] > 60]"
   ]
  },
  {
   "cell_type": "code",
   "execution_count": 273,
   "metadata": {},
   "outputs": [
    {
     "data": {
      "text/plain": [
       "{'rectal temperature': [60, 0.2],\n",
       " 'pulse': [24, 0.08],\n",
       " 'mucous membranes': [47, 0.16],\n",
       " 'abdominal distension': [56, 0.19],\n",
       " 'rectal examination - feces': [102, 0.34],\n",
       " 'packed cell volume': [29, 0.1],\n",
       " 'total protein': [33, 0.11],\n",
       " 'outcom': [1, 0.0]}"
      ]
     },
     "execution_count": 273,
     "metadata": {},
     "output_type": "execute_result"
    }
   ],
   "source": [
    "#Задание №3\n",
    "\n",
    "#считаю пропуски\n",
    "missed_count = {}\n",
    "for item in horse.isna().sum().index:\n",
    "    missed_count[item] = [horse.isna().sum()[item], (horse.isna().mean()[item]).round(2)]\n",
    "\n",
    "missed_count"
   ]
  },
  {
   "cell_type": "code",
   "execution_count": 274,
   "metadata": {},
   "outputs": [
    {
     "data": {
      "text/plain": [
       "\"\\n1. rectal temperature - заполнить средним (нормальное распределение, концентрация вокруг среднего)\\n2. pulse - получить средние по двум группам значений переменной (высокие/низкие), по признаку смерти у строки \\nсо значением 'pulse'= Null заполнить средним ('outcom' 1/2-3 = среднее из низкий/высокий)\\n3. mucous membranes - если лошадь жива заполняем 1-3, если нет 4-6, если неизвестно - 1 (среди живых 3/4 с 1-3, \\nсреди мертвых 2/3 с 4-6)\\n4. abdominal distension - если лошадь жива заполняем 1-2, если нет 3-4, если неизвестно - модой\\n(среди живых 3/4 с 1-2, среди мертвых 2/3 с 3-4)\\n5. rectal examination - feces - заполняем модой\\n6. packed cell volume - заполнить средним (распределение близкое к нормальному, концентрация вокруг среднего)\\n7. total protein - заполняем средним (корреляции нет ни с чем)\\n\""
      ]
     },
     "execution_count": 274,
     "metadata": {},
     "output_type": "execute_result"
    }
   ],
   "source": [
    "\"\"\"\n",
    "1. rectal temperature - заполнить средним (нормальное распределение, концентрация вокруг среднего)\n",
    "2. pulse - получить средние по двум группам значений переменной (высокие/низкие), по признаку смерти у строки \n",
    "со значением 'pulse'= Null заполнить средним ('outcom' 1/2-3 = среднее из низкий/высокий)\n",
    "3. mucous membranes - если лошадь жива заполняем 1-3, если нет 4-6, если неизвестно - 1 (среди живых 3/4 с 1-3, \n",
    "среди мертвых 2/3 с 4-6)\n",
    "4. abdominal distension - если лошадь жива заполняем 1-2, если нет 3-4, если неизвестно - модой\n",
    "(среди живых 3/4 с 1-2, среди мертвых 2/3 с 3-4)\n",
    "5. rectal examination - feces - заполняем модой\n",
    "6. packed cell volume - заполнить средним (распределение близкое к нормальному, концентрация вокруг среднего)\n",
    "7. total protein - заполняем средним (корреляции нет ни с чем)\n",
    "\"\"\""
   ]
  },
  {
   "cell_type": "code",
   "execution_count": 275,
   "metadata": {},
   "outputs": [],
   "source": [
    "#формирую целевой датафрейм\n",
    "\n",
    "#'rectal temperature'\n",
    "horse['rectal temperature'].fillna(horse['rectal temperature'].mean(), inplace = True)\n",
    "\n",
    "#'pulse'\n",
    "def pulse_conversion(row):\n",
    "    if pd.isna(row['pulse']):\n",
    "        if row['outcom'] == 1.0:\n",
    "            return horse[horse['pulse'] < 100]['pulse'].mean()\n",
    "        elif row['outcom'] in [2.0, 3.0]:\n",
    "            return horse[horse['pulse'] >= 100]['pulse'].mean()\n",
    "        else:\n",
    "            return horse['pulse'].mean()\n",
    "    else:\n",
    "        return row['pulse']\n",
    "\n",
    "horse['pulse'] = horse.apply(pulse_conversion, axis=1)\n",
    "\n",
    "#'mucous membranes'\n",
    "def m_membranes_conversion(row):\n",
    "    if pd.isna(row['mucous membranes']):\n",
    "        if row['outcom'] == 1.0:\n",
    "            return rnd.randint(1, 3)\n",
    "        elif row['outcom'] in [2.0, 3.0]:\n",
    "            return rnd.randint(4, 6)\n",
    "        else:\n",
    "            return 1.0\n",
    "    else:\n",
    "        return row['mucous membranes']\n",
    "\n",
    "horse['mucous membranes'] = horse.apply(m_membranes_conversion, axis=1)\n",
    "horse['mucous membranes'] = horse['mucous membranes'].astype('category')\n",
    "\n",
    "#'abdominal distension'\n",
    "def abd_dist_conversion(row, mode):\n",
    "    if pd.isna(row['abdominal distension']):\n",
    "        if row['outcom'] == 1.0:\n",
    "            return rnd.randint(1, 2)\n",
    "        elif row['outcom'] in [2.0, 3.0]:\n",
    "            return rnd.randint(3, 4)\n",
    "        else:\n",
    "            return mode\n",
    "    else:\n",
    "        return row['abdominal distension']\n",
    "\n",
    "mode = horse['abdominal distension'].mode()\n",
    "horse['abdominal distension'] = horse.apply(lambda row: abd_dist_conversion(row, mode), axis=1)\n",
    "horse['abdominal distension'] = horse['abdominal distension'].astype('category')\n",
    "\n",
    "#'rectal examination - feces'\n",
    "horse['rectal examination - feces'].fillna(horse['rectal examination - feces'].mode()[0], inplace = True)\n",
    "\n",
    "#'packed cell volume'\n",
    "horse['packed cell volume'].fillna(horse['packed cell volume'].mean(), inplace = True)\n",
    "\n",
    "#'total protein'\n",
    "horse['total protein'].fillna(horse['total protein'].mean(), inplace = True)\n",
    "\n",
    "#'outcom', одно пустое значение, корреляция не ясна\n",
    "horse['outcom'].fillna(horse['outcom'].mode()[0], inplace = True)"
   ]
  },
  {
   "cell_type": "code",
   "execution_count": 276,
   "metadata": {},
   "outputs": [
    {
     "name": "stdout",
     "output_type": "stream",
     "text": [
      "<class 'pandas.core.frame.DataFrame'>\n",
      "RangeIndex: 300 entries, 0 to 299\n",
      "Data columns (total 8 columns):\n",
      " #   Column                      Non-Null Count  Dtype   \n",
      "---  ------                      --------------  -----   \n",
      " 0   rectal temperature          300 non-null    float64 \n",
      " 1   pulse                       300 non-null    float64 \n",
      " 2   mucous membranes            300 non-null    category\n",
      " 3   abdominal distension        300 non-null    category\n",
      " 4   rectal examination - feces  300 non-null    category\n",
      " 5   packed cell volume          300 non-null    float64 \n",
      " 6   total protein               300 non-null    float64 \n",
      " 7   outcom                      300 non-null    category\n",
      "dtypes: category(4), float64(4)\n",
      "memory usage: 11.4 KB\n"
     ]
    }
   ],
   "source": [
    "horse.info()"
   ]
  },
  {
   "cell_type": "code",
   "execution_count": 277,
   "metadata": {},
   "outputs": [
    {
     "data": {
      "text/html": [
       "<div>\n",
       "<style scoped>\n",
       "    .dataframe tbody tr th:only-of-type {\n",
       "        vertical-align: middle;\n",
       "    }\n",
       "\n",
       "    .dataframe tbody tr th {\n",
       "        vertical-align: top;\n",
       "    }\n",
       "\n",
       "    .dataframe thead th {\n",
       "        text-align: right;\n",
       "    }\n",
       "</style>\n",
       "<table border=\"1\" class=\"dataframe\">\n",
       "  <thead>\n",
       "    <tr style=\"text-align: right;\">\n",
       "      <th></th>\n",
       "      <th>rectal temperature</th>\n",
       "      <th>pulse</th>\n",
       "      <th>mucous membranes</th>\n",
       "      <th>abdominal distension</th>\n",
       "      <th>rectal examination - feces</th>\n",
       "      <th>packed cell volume</th>\n",
       "      <th>total protein</th>\n",
       "      <th>outcom</th>\n",
       "    </tr>\n",
       "  </thead>\n",
       "  <tbody>\n",
       "    <tr>\n",
       "      <th>0</th>\n",
       "      <td>38.5</td>\n",
       "      <td>66.0</td>\n",
       "      <td>5.0</td>\n",
       "      <td>4.0</td>\n",
       "      <td>3.0</td>\n",
       "      <td>45.0</td>\n",
       "      <td>8.4</td>\n",
       "      <td>2.0</td>\n",
       "    </tr>\n",
       "    <tr>\n",
       "      <th>1</th>\n",
       "      <td>39.2</td>\n",
       "      <td>88.0</td>\n",
       "      <td>4.0</td>\n",
       "      <td>2.0</td>\n",
       "      <td>4.0</td>\n",
       "      <td>50.0</td>\n",
       "      <td>85.0</td>\n",
       "      <td>3.0</td>\n",
       "    </tr>\n",
       "    <tr>\n",
       "      <th>2</th>\n",
       "      <td>38.3</td>\n",
       "      <td>40.0</td>\n",
       "      <td>3.0</td>\n",
       "      <td>1.0</td>\n",
       "      <td>1.0</td>\n",
       "      <td>33.0</td>\n",
       "      <td>6.7</td>\n",
       "      <td>1.0</td>\n",
       "    </tr>\n",
       "    <tr>\n",
       "      <th>3</th>\n",
       "      <td>39.1</td>\n",
       "      <td>164.0</td>\n",
       "      <td>6.0</td>\n",
       "      <td>4.0</td>\n",
       "      <td>3.0</td>\n",
       "      <td>48.0</td>\n",
       "      <td>7.2</td>\n",
       "      <td>2.0</td>\n",
       "    </tr>\n",
       "    <tr>\n",
       "      <th>4</th>\n",
       "      <td>37.3</td>\n",
       "      <td>104.0</td>\n",
       "      <td>6.0</td>\n",
       "      <td>4.0</td>\n",
       "      <td>4.0</td>\n",
       "      <td>74.0</td>\n",
       "      <td>7.4</td>\n",
       "      <td>2.0</td>\n",
       "    </tr>\n",
       "  </tbody>\n",
       "</table>\n",
       "</div>"
      ],
      "text/plain": [
       "   rectal temperature  pulse mucous membranes abdominal distension  \\\n",
       "0                38.5   66.0              5.0                  4.0   \n",
       "1                39.2   88.0              4.0                  2.0   \n",
       "2                38.3   40.0              3.0                  1.0   \n",
       "3                39.1  164.0              6.0                  4.0   \n",
       "4                37.3  104.0              6.0                  4.0   \n",
       "\n",
       "  rectal examination - feces  packed cell volume  total protein outcom  \n",
       "0                        3.0                45.0            8.4    2.0  \n",
       "1                        4.0                50.0           85.0    3.0  \n",
       "2                        1.0                33.0            6.7    1.0  \n",
       "3                        3.0                48.0            7.2    2.0  \n",
       "4                        4.0                74.0            7.4    2.0  "
      ]
     },
     "execution_count": 277,
     "metadata": {},
     "output_type": "execute_result"
    }
   ],
   "source": [
    "horse.head()"
   ]
  },
  {
   "cell_type": "code",
   "execution_count": null,
   "metadata": {},
   "outputs": [],
   "source": []
  },
  {
   "cell_type": "code",
   "execution_count": null,
   "metadata": {},
   "outputs": [],
   "source": []
  },
  {
   "cell_type": "code",
   "execution_count": null,
   "metadata": {},
   "outputs": [],
   "source": []
  },
  {
   "cell_type": "code",
   "execution_count": null,
   "metadata": {},
   "outputs": [],
   "source": []
  }
 ],
 "metadata": {
  "kernelspec": {
   "display_name": "Python 3",
   "language": "python",
   "name": "python3"
  },
  "language_info": {
   "codemirror_mode": {
    "name": "ipython",
    "version": 3
   },
   "file_extension": ".py",
   "mimetype": "text/x-python",
   "name": "python",
   "nbconvert_exporter": "python",
   "pygments_lexer": "ipython3",
   "version": "3.8.8"
  }
 },
 "nbformat": 4,
 "nbformat_minor": 2
}
