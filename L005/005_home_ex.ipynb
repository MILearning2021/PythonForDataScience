{
 "cells": [
  {
   "cell_type": "code",
   "execution_count": 2,
   "id": "48e350c3",
   "metadata": {},
   "outputs": [],
   "source": [
    "import datetime as dt\n",
    "from datetime import timedelta\n",
    "from pprint import pprint"
   ]
  },
  {
   "cell_type": "code",
   "execution_count": 45,
   "id": "f1f9bb05",
   "metadata": {},
   "outputs": [
    {
     "name": "stdout",
     "output_type": "stream",
     "text": [
      "The Moscow Times: Wednesday, October 2, 2002; datetime объект: 2002-10-02 00:00:00\n",
      "The Guardian: Friday, 11.10.13; datetime объект: 2013-10-11 00:00:00\n",
      "Daily News: Thursday, 18 August 1977; datetime объект: 1977-08-18 00:00:00\n"
     ]
    }
   ],
   "source": [
    "#задание №1\n",
    "date_strings = {\n",
    "                'The Moscow Times':{'string':'Wednesday, October 2, 2002', 'format':'%A, %B %d, %Y'},\n",
    "                'The Guardian':{'string':'Friday, 11.10.13', 'format':'%A, %d.%m.%y'},\n",
    "                'Daily News':{'string':'Thursday, 18 August 1977', 'format':'%A, %d %B %Y'}\n",
    "            }\n",
    "\n",
    "for key in date_strings:\n",
    "    dt_obj = dt.datetime.strptime(date_strings[key]['string'], date_strings[key]['format'])\n",
    "    print(key + ': ' + date_strings[key]['string'] + '; datetime объект: ' + str(dt_obj))\n"
   ]
  },
  {
   "cell_type": "code",
   "execution_count": 60,
   "id": "2de76261",
   "metadata": {},
   "outputs": [
    {
     "name": "stdout",
     "output_type": "stream",
     "text": [
      "2018-04-02, True\n",
      "2018-02-29, False\n",
      "2018-19-02, False\n"
     ]
    }
   ],
   "source": [
    "#задание №2\n",
    "stream = ['2018-04-02', '2018-02-29', '2018-19-02']\n",
    "\n",
    "def date_check(date_string):\n",
    "    try:\n",
    "        dt.datetime.strptime(date_string, '%Y-%m-%d')\n",
    "        return True\n",
    "    except ValueError:\n",
    "        return False\n",
    "\n",
    "for element in stream:\n",
    "    print(f'{element}, {date_check(element)}')\n"
   ]
  },
  {
   "cell_type": "code",
   "execution_count": 6,
   "id": "e7c2b653",
   "metadata": {},
   "outputs": [
    {
     "name": "stdout",
     "output_type": "stream",
     "text": [
      "Начальная дата, YYYY-MM-DD: 2021-04-01\n",
      "Конечная дата, YYYY-MM-DD: 2021-19-01\n",
      "[]\n"
     ]
    }
   ],
   "source": [
    "#задание №3\n",
    "def date_range():\n",
    "    date_list = []\n",
    "    try: \n",
    "        start_date = dt.datetime.strptime(input('Начальная дата, YYYY-MM-DD: '), '%Y-%m-%d')\n",
    "        end_date = dt.datetime.strptime(input('Конечная дата, YYYY-MM-DD: '), '%Y-%m-%d')\n",
    "    except ValueError:\n",
    "        return date_list   \n",
    "        \n",
    "    if start_date <= end_date:\n",
    "        current_date = start_date\n",
    "        while current_date <= end_date:\n",
    "            date_list.append(current_date)\n",
    "            current_date = current_date + timedelta(days = 1)\n",
    "    return date_list\n",
    "    \n",
    "pprint(date_range())\n",
    "    "
   ]
  },
  {
   "cell_type": "code",
   "execution_count": 79,
   "id": "aba17af0",
   "metadata": {},
   "outputs": [
    {
     "name": "stdout",
     "output_type": "stream",
     "text": [
      "['A100', 'A101', 'A102']\n",
      "('A101', 2)\n",
      "['A100', 'A101']\n"
     ]
    },
    {
     "ename": "IndexError",
     "evalue": "list index out of range",
     "output_type": "error",
     "traceback": [
      "\u001b[0;31m---------------------------------------------------------------------------\u001b[0m",
      "\u001b[0;31mIndexError\u001b[0m                                Traceback (most recent call last)",
      "\u001b[0;32m<ipython-input-79-9182af2cde07>\u001b[0m in \u001b[0;36m<module>\u001b[0;34m\u001b[0m\n\u001b[1;32m     19\u001b[0m \u001b[0;34m\u001b[0m\u001b[0m\n\u001b[1;32m     20\u001b[0m \u001b[0;31m#Однако, при повторном вызове получается ошибка IndexError: list index out of range.\u001b[0m\u001b[0;34m\u001b[0m\u001b[0;34m\u001b[0m\u001b[0;34m\u001b[0m\u001b[0m\n\u001b[0;32m---> 21\u001b[0;31m \u001b[0mdelete_and_return_last_user\u001b[0m\u001b[0;34m(\u001b[0m\u001b[0;36m1\u001b[0m\u001b[0;34m)\u001b[0m\u001b[0;34m\u001b[0m\u001b[0;34m\u001b[0m\u001b[0m\n\u001b[0m\u001b[1;32m     22\u001b[0m \u001b[0;34m\u001b[0m\u001b[0m\n\u001b[1;32m     23\u001b[0m \u001b[0;31m#Задание:\u001b[0m\u001b[0;34m\u001b[0m\u001b[0;34m\u001b[0m\u001b[0;34m\u001b[0m\u001b[0m\n",
      "\u001b[0;32m<ipython-input-79-9182af2cde07>\u001b[0m in \u001b[0;36mdelete_and_return_last_user\u001b[0;34m(region, default_list)\u001b[0m\n\u001b[1;32m     13\u001b[0m     \u001b[0melement_to_delete\u001b[0m \u001b[0;34m=\u001b[0m \u001b[0mdefault_list\u001b[0m\u001b[0;34m[\u001b[0m\u001b[0;34m-\u001b[0m\u001b[0;36m1\u001b[0m\u001b[0;34m]\u001b[0m\u001b[0;34m\u001b[0m\u001b[0;34m\u001b[0m\u001b[0m\n\u001b[1;32m     14\u001b[0m     \u001b[0mdefault_list\u001b[0m\u001b[0;34m.\u001b[0m\u001b[0mremove\u001b[0m\u001b[0;34m(\u001b[0m\u001b[0melement_to_delete\u001b[0m\u001b[0;34m)\u001b[0m\u001b[0;34m\u001b[0m\u001b[0;34m\u001b[0m\u001b[0m\n\u001b[0;32m---> 15\u001b[0;31m     \u001b[0;32mreturn\u001b[0m \u001b[0mdefault_list\u001b[0m\u001b[0;34m[\u001b[0m\u001b[0mDEFAULT_USER_COUNT\u001b[0m\u001b[0;34m-\u001b[0m\u001b[0;36m2\u001b[0m\u001b[0;34m]\u001b[0m\u001b[0;34m,\u001b[0m \u001b[0mlen\u001b[0m\u001b[0;34m(\u001b[0m\u001b[0mdefault_list\u001b[0m\u001b[0;34m)\u001b[0m\u001b[0;34m\u001b[0m\u001b[0;34m\u001b[0m\u001b[0m\n\u001b[0m\u001b[1;32m     16\u001b[0m \u001b[0;34m\u001b[0m\u001b[0m\n\u001b[1;32m     17\u001b[0m \u001b[0;31m#При однократном вызове этой функции все работает корректно:\u001b[0m\u001b[0;34m\u001b[0m\u001b[0;34m\u001b[0m\u001b[0;34m\u001b[0m\u001b[0m\n",
      "\u001b[0;31mIndexError\u001b[0m: list index out of range"
     ]
    }
   ],
   "source": [
    "#задание №4\n",
    "\n",
    "DEFAULT_USER_COUNT = 3\n",
    "\n",
    "def delete_and_return_last_user(region, default_list=['A100', 'A101', 'A102']):\n",
    "    '''\n",
    "    Удаляет из списка default_list последнего пользователя\n",
    "    и возвращает ID нового последнего пользователя.\n",
    "    '''\n",
    "    element_to_delete = default_list[-1]\n",
    "    default_list.remove(element_to_delete)\n",
    "    return default_list[DEFAULT_USER_COUNT-2]\n",
    "\n",
    "#При однократном вызове этой функции все работает корректно:\n",
    "delete_and_return_last_user(1)\n",
    "#Однако, при повторном вызове получается ошибка IndexError: list index out of range.\n",
    "delete_and_return_last_user(1)\n",
    "\n",
    "#Задание:\n",
    "#1.Что значит ошибка list index out of range?\n",
    "'''\n",
    "В массиве (в данном случае default_list) нет элемента с указанным индексом (в данном случае массив default_list\n",
    "короче, чем хочется программисту).\n",
    "'''\n",
    "#2.Почему при первом запуске функция работает корректно, а при втором - нет?\n",
    "'''\n",
    "При первом запуске DEFAULT_USER_COUNT и текущая длина массива default_list соответствовали друг другу.\n",
    "Далее, массив укоротили на \"1\", а DEFAULT_USER_COUNT не уменьшили на \"1\".\n",
    "Далее, вновь массив укоротили на \"1\" и длины массива перестало хватать, чтобы покрыть индексом разницу \n",
    "с DEFAULT_USER_COUNT (остался только один элемент, т.е. макс. индекс \"0\", а хотели использовать индекс \"1\").\n",
    "'''"
   ]
  },
  {
   "cell_type": "code",
   "execution_count": 4,
   "id": "cb475830",
   "metadata": {},
   "outputs": [
    {
     "data": {
      "text/plain": [
       "10"
      ]
     },
     "execution_count": 4,
     "metadata": {},
     "output_type": "execute_result"
    }
   ],
   "source": [
    "sum([1,2,3,4])"
   ]
  },
  {
   "cell_type": "code",
   "execution_count": null,
   "id": "736f4549",
   "metadata": {},
   "outputs": [],
   "source": []
  }
 ],
 "metadata": {
  "kernelspec": {
   "display_name": "Python 3",
   "language": "python",
   "name": "python3"
  },
  "language_info": {
   "codemirror_mode": {
    "name": "ipython",
    "version": 3
   },
   "file_extension": ".py",
   "mimetype": "text/x-python",
   "name": "python",
   "nbconvert_exporter": "python",
   "pygments_lexer": "ipython3",
   "version": "3.8.8"
  }
 },
 "nbformat": 4,
 "nbformat_minor": 5
}
