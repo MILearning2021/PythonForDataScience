{
 "cells": [
  {
   "cell_type": "code",
   "execution_count": 1,
   "id": "5c785fbe",
   "metadata": {},
   "outputs": [],
   "source": [
    "import os\n",
    "import pandas as pd\n",
    "from pprint import pprint"
   ]
  },
  {
   "cell_type": "code",
   "execution_count": 2,
   "id": "0f7ed724",
   "metadata": {},
   "outputs": [],
   "source": [
    "#Задание №1\n",
    "#читаю список фильмов\n",
    "movies = pd.read_csv(os.getcwd() + '/ml-latest-small/movies.csv')\n",
    "#movies"
   ]
  },
  {
   "cell_type": "code",
   "execution_count": 3,
   "id": "42676357",
   "metadata": {},
   "outputs": [],
   "source": [
    "#читаю пользовательские рейтинги фильмов\n",
    "ratings = pd.read_csv(os.getcwd() + '/ml-latest-small/ratings.csv')\n",
    "#ratings"
   ]
  },
  {
   "cell_type": "code",
   "execution_count": 4,
   "id": "82476cb4",
   "metadata": {},
   "outputs": [],
   "source": [
    "#получаю средний рейтинг для каждого фильма, который подвергался оценке (не реиндексирую!)\n",
    "movie_class = ratings.groupby('movieId').agg({'rating':'mean'})#.reset_index()\n",
    "#movie_class"
   ]
  },
  {
   "cell_type": "code",
   "execution_count": 5,
   "id": "4b604b2e",
   "metadata": {},
   "outputs": [],
   "source": [
    "#классифицрую фильмы, подвергавшиеся оценке, согласно условию задачи\n",
    "def movie_ratings_classification(rating):\n",
    "    if rating <= 2.0: return 'LOW'\n",
    "    elif rating <= 4.0: return 'MIDDLE'\n",
    "    elif rating == 4.5 or rating == 5.0: return 'HIGH'\n",
    "    else: return \"NOT CLASSIFIED\" #ели средний рейтинг не соответствует ни одному из условий классификации\n",
    "\n",
    "#создаю колонку class и записываю туда результаты классификации\n",
    "movie_class['class'] = movie_class['rating'].apply(movie_ratings_classification)\n",
    "#movie_class"
   ]
  },
  {
   "cell_type": "code",
   "execution_count": 6,
   "id": "ac17eca4",
   "metadata": {},
   "outputs": [
    {
     "data": {
      "text/html": [
       "<div>\n",
       "<style scoped>\n",
       "    .dataframe tbody tr th:only-of-type {\n",
       "        vertical-align: middle;\n",
       "    }\n",
       "\n",
       "    .dataframe tbody tr th {\n",
       "        vertical-align: top;\n",
       "    }\n",
       "\n",
       "    .dataframe thead th {\n",
       "        text-align: right;\n",
       "    }\n",
       "</style>\n",
       "<table border=\"1\" class=\"dataframe\">\n",
       "  <thead>\n",
       "    <tr style=\"text-align: right;\">\n",
       "      <th></th>\n",
       "      <th>movieId</th>\n",
       "      <th>title</th>\n",
       "      <th>genres</th>\n",
       "      <th>class</th>\n",
       "    </tr>\n",
       "  </thead>\n",
       "  <tbody>\n",
       "    <tr>\n",
       "      <th>0</th>\n",
       "      <td>1</td>\n",
       "      <td>Toy Story (1995)</td>\n",
       "      <td>Adventure|Animation|Children|Comedy|Fantasy</td>\n",
       "      <td>MIDDLE</td>\n",
       "    </tr>\n",
       "    <tr>\n",
       "      <th>1</th>\n",
       "      <td>2</td>\n",
       "      <td>Jumanji (1995)</td>\n",
       "      <td>Adventure|Children|Fantasy</td>\n",
       "      <td>MIDDLE</td>\n",
       "    </tr>\n",
       "    <tr>\n",
       "      <th>2</th>\n",
       "      <td>3</td>\n",
       "      <td>Grumpier Old Men (1995)</td>\n",
       "      <td>Comedy|Romance</td>\n",
       "      <td>MIDDLE</td>\n",
       "    </tr>\n",
       "    <tr>\n",
       "      <th>3</th>\n",
       "      <td>4</td>\n",
       "      <td>Waiting to Exhale (1995)</td>\n",
       "      <td>Comedy|Drama|Romance</td>\n",
       "      <td>MIDDLE</td>\n",
       "    </tr>\n",
       "    <tr>\n",
       "      <th>4</th>\n",
       "      <td>5</td>\n",
       "      <td>Father of the Bride Part II (1995)</td>\n",
       "      <td>Comedy</td>\n",
       "      <td>MIDDLE</td>\n",
       "    </tr>\n",
       "    <tr>\n",
       "      <th>...</th>\n",
       "      <td>...</td>\n",
       "      <td>...</td>\n",
       "      <td>...</td>\n",
       "      <td>...</td>\n",
       "    </tr>\n",
       "    <tr>\n",
       "      <th>9120</th>\n",
       "      <td>162672</td>\n",
       "      <td>Mohenjo Daro (2016)</td>\n",
       "      <td>Adventure|Drama|Romance</td>\n",
       "      <td>DO NOT RATE</td>\n",
       "    </tr>\n",
       "    <tr>\n",
       "      <th>9121</th>\n",
       "      <td>163056</td>\n",
       "      <td>Shin Godzilla (2016)</td>\n",
       "      <td>Action|Adventure|Fantasy|Sci-Fi</td>\n",
       "      <td>DO NOT RATE</td>\n",
       "    </tr>\n",
       "    <tr>\n",
       "      <th>9122</th>\n",
       "      <td>163949</td>\n",
       "      <td>The Beatles: Eight Days a Week - The Touring Y...</td>\n",
       "      <td>Documentary</td>\n",
       "      <td>DO NOT RATE</td>\n",
       "    </tr>\n",
       "    <tr>\n",
       "      <th>9123</th>\n",
       "      <td>164977</td>\n",
       "      <td>The Gay Desperado (1936)</td>\n",
       "      <td>Comedy</td>\n",
       "      <td>DO NOT RATE</td>\n",
       "    </tr>\n",
       "    <tr>\n",
       "      <th>9124</th>\n",
       "      <td>164979</td>\n",
       "      <td>Women of '69, Unboxed</td>\n",
       "      <td>Documentary</td>\n",
       "      <td>DO NOT RATE</td>\n",
       "    </tr>\n",
       "  </tbody>\n",
       "</table>\n",
       "<p>9125 rows × 4 columns</p>\n",
       "</div>"
      ],
      "text/plain": [
       "      movieId                                              title  \\\n",
       "0           1                                   Toy Story (1995)   \n",
       "1           2                                     Jumanji (1995)   \n",
       "2           3                            Grumpier Old Men (1995)   \n",
       "3           4                           Waiting to Exhale (1995)   \n",
       "4           5                 Father of the Bride Part II (1995)   \n",
       "...       ...                                                ...   \n",
       "9120   162672                                Mohenjo Daro (2016)   \n",
       "9121   163056                               Shin Godzilla (2016)   \n",
       "9122   163949  The Beatles: Eight Days a Week - The Touring Y...   \n",
       "9123   164977                           The Gay Desperado (1936)   \n",
       "9124   164979                              Women of '69, Unboxed   \n",
       "\n",
       "                                           genres        class  \n",
       "0     Adventure|Animation|Children|Comedy|Fantasy       MIDDLE  \n",
       "1                      Adventure|Children|Fantasy       MIDDLE  \n",
       "2                                  Comedy|Romance       MIDDLE  \n",
       "3                            Comedy|Drama|Romance       MIDDLE  \n",
       "4                                          Comedy       MIDDLE  \n",
       "...                                           ...          ...  \n",
       "9120                      Adventure|Drama|Romance  DO NOT RATE  \n",
       "9121              Action|Adventure|Fantasy|Sci-Fi  DO NOT RATE  \n",
       "9122                                  Documentary  DO NOT RATE  \n",
       "9123                                       Comedy  DO NOT RATE  \n",
       "9124                                  Documentary  DO NOT RATE  \n",
       "\n",
       "[9125 rows x 4 columns]"
      ]
     },
     "execution_count": 6,
     "metadata": {},
     "output_type": "execute_result"
    }
   ],
   "source": [
    "#список всех имеющихся фильмов дополняю результатом классификации (столбец class)\n",
    "def movie_classification(movieId):\n",
    "    try:\n",
    "        movie_class.iloc[movieId]\n",
    "    except IndexError: \n",
    "        return 'DO NOT RATE'  #если фильм не подвергался оценке (в таблице рейтингов его нет)\n",
    "    return movie_class.iloc[movieId, 1]\n",
    "\n",
    "movies['class'] = movies['movieId'].apply(movie_classification)\n",
    "movies #[movies['class']=='DO NOT RATE']"
   ]
  },
  {
   "cell_type": "code",
   "execution_count": 2,
   "id": "d8b530b4",
   "metadata": {},
   "outputs": [],
   "source": [
    "#Задание №2\n",
    "geo_data = {'Центр': ['москва', 'тула', 'ярославль'],\n",
    "            'Северо-Запад': ['петербург', 'псков', 'мурманск'],\n",
    "            'Дальний Восток': ['владивосток', 'сахалин', 'хабаровск']}"
   ]
  },
  {
   "cell_type": "code",
   "execution_count": 3,
   "id": "7d5cb72f",
   "metadata": {},
   "outputs": [],
   "source": [
    "#читаю файл запросов\n",
    "query = pd.read_csv(os.getcwd() + '/ml-latest-small/keywords.csv')\n",
    "#query"
   ]
  },
  {
   "cell_type": "code",
   "execution_count": 4,
   "id": "f9d33fbb",
   "metadata": {},
   "outputs": [
    {
     "data": {
      "text/html": [
       "<div>\n",
       "<style scoped>\n",
       "    .dataframe tbody tr th:only-of-type {\n",
       "        vertical-align: middle;\n",
       "    }\n",
       "\n",
       "    .dataframe tbody tr th {\n",
       "        vertical-align: top;\n",
       "    }\n",
       "\n",
       "    .dataframe thead th {\n",
       "        text-align: right;\n",
       "    }\n",
       "</style>\n",
       "<table border=\"1\" class=\"dataframe\">\n",
       "  <thead>\n",
       "    <tr style=\"text-align: right;\">\n",
       "      <th></th>\n",
       "      <th>keyword</th>\n",
       "      <th>shows</th>\n",
       "      <th>region</th>\n",
       "    </tr>\n",
       "  </thead>\n",
       "  <tbody>\n",
       "    <tr>\n",
       "      <th>1063</th>\n",
       "      <td>фарпост владивосток</td>\n",
       "      <td>176951</td>\n",
       "      <td>Дальний Восток</td>\n",
       "    </tr>\n",
       "    <tr>\n",
       "      <th>2175</th>\n",
       "      <td>дром хабаровск</td>\n",
       "      <td>98361</td>\n",
       "      <td>Дальний Восток</td>\n",
       "    </tr>\n",
       "    <tr>\n",
       "      <th>3206</th>\n",
       "      <td>дром владивосток</td>\n",
       "      <td>73084</td>\n",
       "      <td>Дальний Восток</td>\n",
       "    </tr>\n",
       "    <tr>\n",
       "      <th>3275</th>\n",
       "      <td>100 сп владивосток</td>\n",
       "      <td>76418</td>\n",
       "      <td>Дальний Восток</td>\n",
       "    </tr>\n",
       "    <tr>\n",
       "      <th>3687</th>\n",
       "      <td>авито хабаровск</td>\n",
       "      <td>63736</td>\n",
       "      <td>Дальний Восток</td>\n",
       "    </tr>\n",
       "    <tr>\n",
       "      <th>...</th>\n",
       "      <td>...</td>\n",
       "      <td>...</td>\n",
       "      <td>...</td>\n",
       "    </tr>\n",
       "    <tr>\n",
       "      <th>90402</th>\n",
       "      <td>аэропорт владивосток</td>\n",
       "      <td>4658</td>\n",
       "      <td>Дальний Восток</td>\n",
       "    </tr>\n",
       "    <tr>\n",
       "      <th>92442</th>\n",
       "      <td>монастырев владивосток официальный сайт</td>\n",
       "      <td>3870</td>\n",
       "      <td>Дальний Восток</td>\n",
       "    </tr>\n",
       "    <tr>\n",
       "      <th>92843</th>\n",
       "      <td>проститутки хабаровск</td>\n",
       "      <td>4120</td>\n",
       "      <td>Дальний Восток</td>\n",
       "    </tr>\n",
       "    <tr>\n",
       "      <th>93872</th>\n",
       "      <td>биглион хабаровск</td>\n",
       "      <td>3890</td>\n",
       "      <td>Дальний Восток</td>\n",
       "    </tr>\n",
       "    <tr>\n",
       "      <th>95572</th>\n",
       "      <td>точное время владивосток</td>\n",
       "      <td>4142</td>\n",
       "      <td>Дальний Восток</td>\n",
       "    </tr>\n",
       "  </tbody>\n",
       "</table>\n",
       "<p>64 rows × 3 columns</p>\n",
       "</div>"
      ],
      "text/plain": [
       "                                       keyword   shows          region\n",
       "1063                       фарпост владивосток  176951  Дальний Восток\n",
       "2175                            дром хабаровск   98361  Дальний Восток\n",
       "3206                          дром владивосток   73084  Дальний Восток\n",
       "3275                        100 сп владивосток   76418  Дальний Восток\n",
       "3687                           авито хабаровск   63736  Дальний Восток\n",
       "...                                        ...     ...             ...\n",
       "90402                     аэропорт владивосток    4658  Дальний Восток\n",
       "92442  монастырев владивосток официальный сайт    3870  Дальний Восток\n",
       "92843                    проститутки хабаровск    4120  Дальний Восток\n",
       "93872                        биглион хабаровск    3890  Дальний Восток\n",
       "95572                 точное время владивосток    4142  Дальний Восток\n",
       "\n",
       "[64 rows x 3 columns]"
      ]
     },
     "execution_count": 4,
     "metadata": {},
     "output_type": "execute_result"
    }
   ],
   "source": [
    "#проверяю наличие слов из запроса в словаре geo_data\n",
    "#возвращаю ключ словаря в качестве региона, в случае удачи\n",
    "#в случае неудачи возвращаю 'undefined'\n",
    "def region_selection(keyword):\n",
    "    words = keyword.split(' ')\n",
    "    for region in geo_data:\n",
    "        for word in words:\n",
    "            if word in geo_data[region]: return region\n",
    "    return 'undefined'\n",
    "\n",
    "#записываю результат выбора региона в столбец region\n",
    "query['region'] = query['keyword'].apply(region_selection)\n",
    "query[query['region']=='Дальний Восток']"
   ]
  },
  {
   "cell_type": "code",
   "execution_count": null,
   "id": "57eedc4a",
   "metadata": {},
   "outputs": [],
   "source": []
  },
  {
   "cell_type": "code",
   "execution_count": 10,
   "id": "9d11c25b",
   "metadata": {},
   "outputs": [
    {
     "name": "stdout",
     "output_type": "stream",
     "text": [
      "['москва', 'тула', 'ярославль'] вологда\n",
      "['петербург', 'псков', 'мурманск'] вологда\n",
      "['владивосток', 'сахалин', 'хабаровск'] вологда\n",
      "['москва', 'тула', 'ярославль'] вологда\n",
      "['петербург', 'псков', 'мурманск'] вологда\n",
      "['владивосток', 'сахалин', 'хабаровск'] вологда\n",
      "['москва', 'тула', 'ярославль'] вологда\n",
      "['петербург', 'псков', 'мурманск'] вологда\n",
      "['владивосток', 'сахалин', 'хабаровск'] вологда\n"
     ]
    }
   ],
   "source": [
    "def region(row):\n",
    "    row_list = row.split(' ')\n",
    "    for key in geo_data:\n",
    "        #print(key)\n",
    "        i = 0\n",
    "        for key, value in geo_data.items():\n",
    "            print(value, row_list[i])\n",
    "            if row_list[i] in value:\n",
    "                print(row_list[i])\n",
    "                return key\n",
    "        i +=1\n",
    "\n",
    "row = 'вологда петербург среда'\n",
    "            \n",
    "qwe = region(row)\n",
    "qwe"
   ]
  },
  {
   "cell_type": "markdown",
   "id": "2f52e3a7",
   "metadata": {},
   "source": [
    "# qwe"
   ]
  },
  {
   "cell_type": "code",
   "execution_count": null,
   "id": "304d4ea5",
   "metadata": {},
   "outputs": [],
   "source": []
  },
  {
   "cell_type": "code",
   "execution_count": 19,
   "id": "68156846",
   "metadata": {},
   "outputs": [
    {
     "name": "stdout",
     "output_type": "stream",
     "text": [
      "Северо-Запад\n"
     ]
    },
    {
     "data": {
      "text/plain": [
       "'Северо-Запад'"
      ]
     },
     "execution_count": 19,
     "metadata": {},
     "output_type": "execute_result"
    }
   ],
   "source": [
    "def region(row):\n",
    "    row_list = row.split(' ')\n",
    "    for key in geo_data:\n",
    "        for value in row_list:\n",
    "            if value in geo_data.get(key):\n",
    "                print(key)\n",
    "                return key\n",
    "            \n",
    "row = 'ветер петербург москвааааа'\n",
    "qwe = region(row)\n",
    "qwe"
   ]
  },
  {
   "cell_type": "code",
   "execution_count": null,
   "id": "56a169e6",
   "metadata": {},
   "outputs": [],
   "source": []
  },
  {
   "cell_type": "code",
   "execution_count": null,
   "id": "bfb11f73",
   "metadata": {},
   "outputs": [],
   "source": []
  },
  {
   "cell_type": "code",
   "execution_count": null,
   "id": "e0cfcd6e",
   "metadata": {},
   "outputs": [],
   "source": []
  },
  {
   "cell_type": "code",
   "execution_count": 10,
   "id": "0d7e2649",
   "metadata": {},
   "outputs": [],
   "source": [
    "#Задание №3\n",
    "#читаю список фильмов и список рейтингов\n",
    "movies = pd.read_csv(os.getcwd() + '/ml-latest-small/movies.csv')\n",
    "ratings = pd.read_csv(os.getcwd() + '/ml-latest-small/ratings.csv')"
   ]
  },
  {
   "cell_type": "code",
   "execution_count": 11,
   "id": "2f3ad585",
   "metadata": {},
   "outputs": [],
   "source": [
    "#заполняю years\n",
    "years = list(range(1950,2011))"
   ]
  },
  {
   "cell_type": "code",
   "execution_count": 12,
   "id": "95bd2799",
   "metadata": {},
   "outputs": [],
   "source": [
    "#определяю год фильма\n",
    "def production_year(title):\n",
    "    for year in years:\n",
    "        if str(year) in title: return year\n",
    "    return 1900\n",
    "#добавляю столбец year, содержащий год\n",
    "movies['year'] = movies['title'].apply(production_year)"
   ]
  },
  {
   "cell_type": "code",
   "execution_count": 13,
   "id": "48770f0a",
   "metadata": {},
   "outputs": [],
   "source": [
    "#считаю средний рейтинг по фильмам, которые подверглись оценке пользователями\n",
    "movies_mean_ratings = ratings.groupby('movieId').agg({'rating':'mean'}).reset_index()"
   ]
  },
  {
   "cell_type": "code",
   "execution_count": 15,
   "id": "07f3d8f3",
   "metadata": {},
   "outputs": [
    {
     "name": "stdout",
     "output_type": "stream",
     "text": [
      "CPU times: user 10.4 s, sys: 41.4 ms, total: 10.5 s\n",
      "Wall time: 10.5 s\n"
     ]
    }
   ],
   "source": [
    "%%time\n",
    "#бинарный поиск, взято из \"Aditya Bhargava. Grokking Algorithms.\"\n",
    "def binary_search(list, item):\n",
    "    low = 0\n",
    "    high = len(list) - 1\n",
    "    while low <= high:\n",
    "        mid = (low + high) // 2\n",
    "        guess = list[mid]\n",
    "        if guess == item:\n",
    "            return mid\n",
    "        if guess > item:\n",
    "            high = mid - 1\n",
    "        else:\n",
    "            low = mid + 1\n",
    "    return None\n",
    "\n",
    "#список всех имеющихся фильмов дополняю столбцом mean rating с данными по среднему рейтингу фильма\n",
    "#если фильм не подвергался оценке, то записываю None(это не исказит результаты нахождения среднего \n",
    "#рейтинга в разрезе года, как если бы заменил на 0.0, т.к. None не учитывается функцией mean)\n",
    "\n",
    "def mean_raiting(movieId):\n",
    "    index = binary_search(list(movies_mean_ratings['movieId']), movieId) #использую бинарный поиск\n",
    "    if index != None:\n",
    "        return movies_mean_ratings.iloc[index, 1]\n",
    "    else:\n",
    "        return None\n",
    "\n",
    "movies['mean rating'] = movies['movieId'].apply(mean_raiting)"
   ]
  },
  {
   "cell_type": "code",
   "execution_count": null,
   "id": "25576b6c-96d4-4fef-b568-3c43c7996183",
   "metadata": {},
   "outputs": [],
   "source": []
  },
  {
   "cell_type": "code",
   "execution_count": null,
   "id": "5f9f8357-f4cb-4f6c-ad89-1ab4e273470c",
   "metadata": {},
   "outputs": [],
   "source": []
  }
 ],
 "metadata": {
  "kernelspec": {
   "display_name": "Python 3",
   "language": "python",
   "name": "python3"
  },
  "language_info": {
   "codemirror_mode": {
    "name": "ipython",
    "version": 3
   },
   "file_extension": ".py",
   "mimetype": "text/x-python",
   "name": "python",
   "nbconvert_exporter": "python",
   "pygments_lexer": "ipython3",
   "version": "3.8.10"
  }
 },
 "nbformat": 4,
 "nbformat_minor": 5
}
